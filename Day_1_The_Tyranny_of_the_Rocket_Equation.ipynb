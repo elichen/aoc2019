{
  "nbformat": 4,
  "nbformat_minor": 0,
  "metadata": {
    "colab": {
      "provenance": [],
      "authorship_tag": "ABX9TyPtt+ZXy6QO5zyt04yyAmHQ",
      "include_colab_link": true
    },
    "kernelspec": {
      "name": "python3",
      "display_name": "Python 3"
    },
    "language_info": {
      "name": "python"
    }
  },
  "cells": [
    {
      "cell_type": "markdown",
      "metadata": {
        "id": "view-in-github",
        "colab_type": "text"
      },
      "source": [
        "<a href=\"https://colab.research.google.com/github/elichen/aoc2019/blob/main/Day_1_The_Tyranny_of_the_Rocket_Equation.ipynb\" target=\"_parent\"><img src=\"https://colab.research.google.com/assets/colab-badge.svg\" alt=\"Open In Colab\"/></a>"
      ]
    },
    {
      "cell_type": "code",
      "execution_count": null,
      "metadata": {
        "id": "MbXCQejJUKdO"
      },
      "outputs": [],
      "source": [
        "def fuel(m):\n",
        "  return (m // 3)-2"
      ]
    },
    {
      "cell_type": "code",
      "source": [
        "input = [x.rstrip() for x in open('input.txt').readlines()]"
      ],
      "metadata": {
        "id": "uXcFKcvxUh94"
      },
      "execution_count": null,
      "outputs": []
    },
    {
      "cell_type": "code",
      "source": [
        "total = 0\n",
        "for line in input:\n",
        "  total += fuel(int(line))\n",
        "total"
      ],
      "metadata": {
        "colab": {
          "base_uri": "https://localhost:8080/"
        },
        "id": "YU6dF_qcUnNv",
        "outputId": "99638fd1-7d53-4e75-83bb-c268a500c785"
      },
      "execution_count": null,
      "outputs": [
        {
          "output_type": "execute_result",
          "data": {
            "text/plain": [
              "3324332"
            ]
          },
          "metadata": {},
          "execution_count": 9
        }
      ]
    },
    {
      "cell_type": "code",
      "source": [
        "def fuel2(m):\n",
        "  total = 0\n",
        "  while (rv := fuel(m)) > 0:\n",
        "    total += rv\n",
        "    m = rv\n",
        "  return total\n",
        "fuel2(100756)"
      ],
      "metadata": {
        "colab": {
          "base_uri": "https://localhost:8080/"
        },
        "id": "hxIsppOJVP-5",
        "outputId": "a2b48d03-1c77-44f2-ce12-eb2ad5b13a16"
      },
      "execution_count": null,
      "outputs": [
        {
          "output_type": "execute_result",
          "data": {
            "text/plain": [
              "50346"
            ]
          },
          "metadata": {},
          "execution_count": 12
        }
      ]
    },
    {
      "cell_type": "code",
      "source": [
        "total = 0\n",
        "for line in input:\n",
        "  total += fuel2(int(line))\n",
        "total"
      ],
      "metadata": {
        "id": "rown7htFWClW",
        "outputId": "e188c4a9-1c45-4904-e464-710c28a2e5e5",
        "colab": {
          "base_uri": "https://localhost:8080/"
        }
      },
      "execution_count": null,
      "outputs": [
        {
          "output_type": "execute_result",
          "data": {
            "text/plain": [
              "4983626"
            ]
          },
          "metadata": {},
          "execution_count": 13
        }
      ]
    }
  ]
}