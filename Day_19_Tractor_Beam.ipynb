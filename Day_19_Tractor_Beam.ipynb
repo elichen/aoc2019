{
  "nbformat": 4,
  "nbformat_minor": 0,
  "metadata": {
    "colab": {
      "provenance": [],
      "authorship_tag": "ABX9TyNx5iIUwU1v+ENxSoxuJWwa",
      "include_colab_link": true
    },
    "kernelspec": {
      "name": "python3",
      "display_name": "Python 3"
    },
    "language_info": {
      "name": "python"
    }
  },
  "cells": [
    {
      "cell_type": "markdown",
      "metadata": {
        "id": "view-in-github",
        "colab_type": "text"
      },
      "source": [
        "<a href=\"https://colab.research.google.com/github/elichen/aoc2019/blob/main/Day_19_Tractor_Beam.ipynb\" target=\"_parent\"><img src=\"https://colab.research.google.com/assets/colab-badge.svg\" alt=\"Open In Colab\"/></a>"
      ]
    },
    {
      "cell_type": "code",
      "execution_count": null,
      "metadata": {
        "id": "ZgEVmoS_VwZc"
      },
      "outputs": [],
      "source": [
        "line = \"109,424,203,1,21102,11,1,0,1105,1,282,21102,1,18,0,1105,1,259,1201,1,0,221,203,1,21101,0,31,0,1105,1,282,21102,38,1,0,1106,0,259,21001,23,0,2,22101,0,1,3,21101,0,1,1,21102,1,57,0,1105,1,303,2101,0,1,222,21001,221,0,3,20102,1,221,2,21102,259,1,1,21101,80,0,0,1106,0,225,21101,0,111,2,21102,1,91,0,1105,1,303,2102,1,1,223,20101,0,222,4,21102,1,259,3,21102,1,225,2,21102,1,225,1,21101,0,118,0,1105,1,225,20101,0,222,3,21102,148,1,2,21102,1,133,0,1106,0,303,21202,1,-1,1,22001,223,1,1,21102,148,1,0,1106,0,259,2101,0,1,223,20102,1,221,4,21001,222,0,3,21101,0,17,2,1001,132,-2,224,1002,224,2,224,1001,224,3,224,1002,132,-1,132,1,224,132,224,21001,224,1,1,21101,0,195,0,106,0,109,20207,1,223,2,20102,1,23,1,21102,-1,1,3,21101,0,214,0,1105,1,303,22101,1,1,1,204,1,99,0,0,0,0,109,5,2102,1,-4,249,22101,0,-3,1,21202,-2,1,2,21202,-1,1,3,21102,1,250,0,1105,1,225,22102,1,1,-4,109,-5,2106,0,0,109,3,22107,0,-2,-1,21202,-1,2,-1,21201,-1,-1,-1,22202,-1,-2,-2,109,-3,2105,1,0,109,3,21207,-2,0,-1,1206,-1,294,104,0,99,22102,1,-2,-2,109,-3,2106,0,0,109,5,22207,-3,-4,-1,1206,-1,346,22201,-4,-3,-4,21202,-3,-1,-1,22201,-4,-1,2,21202,2,-1,-1,22201,-4,-1,1,21202,-2,1,3,21101,0,343,0,1105,1,303,1105,1,415,22207,-2,-3,-1,1206,-1,387,22201,-3,-2,-3,21202,-2,-1,-1,22201,-3,-1,3,21202,3,-1,-1,22201,-3,-1,2,21201,-4,0,1,21102,384,1,0,1106,0,303,1105,1,415,21202,-4,-1,-4,22201,-4,-3,-4,22202,-3,-2,-2,22202,-2,-4,-4,22202,-3,-2,-3,21202,-4,-1,-2,22201,-3,-2,1,21202,1,1,-4,109,-5,2106,0,0\""
      ]
    },
    {
      "cell_type": "code",
      "source": [
        "def get_val(index, mode, base, arr):\n",
        "    if mode == 0:\n",
        "      return arr.get(arr.get(index,0),0)\n",
        "    elif mode == 1:\n",
        "      return arr.get(index,0)\n",
        "    elif mode == 2:\n",
        "      return arr.get(arr.get(index,0)+base,0)\n",
        "\n",
        "def run(input, a, i=0, base=0):\n",
        "    while i < len(a):\n",
        "        m3, m2, m1, op = a[i] // 10000, a[i] // 1000 % 10, a[i] // 100 % 10, a[i] % 100\n",
        "        a1 = get_val(i + 1, m1, base, a)\n",
        "        a2 = get_val(i + 2, m2, base, a)\n",
        "\n",
        "        if op == 1:\n",
        "            addr = a[i+3]+base if m3 == 2 else a[i+3]\n",
        "            a[addr] = a1 + a2\n",
        "            i += 4\n",
        "        elif op == 2:\n",
        "            addr = a[i+3]+base if m3 == 2 else a[i+3]\n",
        "            a[addr] = a1 * a2\n",
        "            i += 4\n",
        "        elif op == 3:\n",
        "            if input == None: return None, None, i, base\n",
        "            addr = a[i+1]+base if m1 == 2 else a[i+1]\n",
        "            a[addr] = input\n",
        "            input = None\n",
        "            i += 2\n",
        "        elif op == 4:\n",
        "            return input, a1, i+2, base\n",
        "        elif op == 5:\n",
        "            i = a2 if a1 != 0 else i + 3\n",
        "        elif op == 6:\n",
        "            i = a2 if a1 == 0 else i + 3\n",
        "        elif op == 7:\n",
        "            addr = a[i+3]+base if m3 == 2 else a[i+3]\n",
        "            a[addr] = 1 if a1 < a2 else 0\n",
        "            i += 4\n",
        "        elif op == 8:\n",
        "            addr = a[i+3]+base if m3 == 2 else a[i+3]\n",
        "            a[addr] = 1 if a1 == a2 else 0\n",
        "            i += 4\n",
        "        elif op == 9:\n",
        "            base += a1\n",
        "            i += 2\n",
        "        elif op == 99:\n",
        "            return input, None, -99, -99"
      ],
      "metadata": {
        "id": "J4CM8tBAx2Tx"
      },
      "execution_count": null,
      "outputs": []
    },
    {
      "cell_type": "code",
      "source": [
        "import numpy as np\n",
        "a_orig = {i:int(x) for i,x in enumerate(line.split(','))}\n",
        "l = 200\n",
        "m = np.zeros((l,l))\n",
        "for x in range(l):\n",
        "  for y in range(l):\n",
        "    i = 0\n",
        "    base = 0\n",
        "    a = a_orig.copy()\n",
        "    input, output, i, base = run(x, a, i, base)\n",
        "    input, output, i, base = run(y, a, i, base)\n",
        "    m[y,x] = output"
      ],
      "metadata": {
        "id": "EBc8Ltp1Ind8"
      },
      "execution_count": null,
      "outputs": []
    },
    {
      "cell_type": "code",
      "source": [
        "np.sum(m == 1)"
      ],
      "metadata": {
        "id": "-wMpwPIuKvY8",
        "colab": {
          "base_uri": "https://localhost:8080/"
        },
        "outputId": "9a2c0642-a24a-41b9-c222-d264e07c378a"
      },
      "execution_count": null,
      "outputs": [
        {
          "output_type": "execute_result",
          "data": {
            "text/plain": [
              "2286"
            ]
          },
          "metadata": {},
          "execution_count": 167
        }
      ]
    },
    {
      "cell_type": "code",
      "source": [
        "import matplotlib.pyplot as plt\n",
        "\n",
        "plt.imshow(m, cmap='gray')\n",
        "plt.show()"
      ],
      "metadata": {
        "colab": {
          "base_uri": "https://localhost:8080/",
          "height": 434
        },
        "id": "ySk5e8LwiCLP",
        "outputId": "4b3c6a08-ae87-49c6-fccf-b0485345064a"
      },
      "execution_count": null,
      "outputs": [
        {
          "output_type": "display_data",
          "data": {
            "text/plain": [
              "<Figure size 640x480 with 1 Axes>"
            ],
            "image/png": "[encoded data removed]"
          },
          "metadata": {}
        }
      ]
    },
    {
      "cell_type": "code",
      "source": [
        "np.where(m[:,100] == 1)"
      ],
      "metadata": {
        "colab": {
          "base_uri": "https://localhost:8080/"
        },
        "id": "n_bH5UXWoPi_",
        "outputId": "07cc06e1-ed6e-4c7d-8b07-8299bb397b1a"
      },
      "execution_count": null,
      "outputs": [
        {
          "output_type": "execute_result",
          "data": {
            "text/plain": [
              "(array([82, 83, 84, 85, 86, 87, 88, 89, 90, 91, 92]),)"
            ]
          },
          "metadata": {},
          "execution_count": 169
        }
      ]
    },
    {
      "cell_type": "code",
      "source": [
        "def calculate_line_parameters(x1, y1, x2, y2):\n",
        "    if x1 == x2:\n",
        "        return None, None  # This would result in a vertical line, which does not have a well-defined slope or y-intercept\n",
        "    else:\n",
        "        m = (y2 - y1) / (x2 - x1)  # Calculate slope\n",
        "        b = y1 - m * x1  # Calculate y-intercept\n",
        "        return m, b\n",
        "\n",
        "x1,x2 = 50,199\n",
        "m1,b1 = calculate_line_parameters(x1, min(np.where(m[:,x1] == 1)[0]), x2, min(np.where(m[:,x2] == 1)[0]))\n",
        "m2,b2 = calculate_line_parameters(x1, max(np.where(m[:,x1] == 1)[0]), x2, max(np.where(m[:,x2] == 1)[0]))\n",
        "w = 100\n",
        "# m1(x)+b1 = m2(x-w)+b2-w\n",
        "# w+b1-b2 = m2x-m1x-m2w\n",
        "# w+b1-b2+m2w = (m2-m1)x\n",
        "x = int(((w-1)+b1-b2+(w-1)*m2)/(m2-m1))\n",
        "x"
      ],
      "metadata": {
        "colab": {
          "base_uri": "https://localhost:8080/"
        },
        "id": "vjICnuz221J7",
        "outputId": "e357d078-0920-46dd-ff2a-6c30fb7f5fdc"
      },
      "execution_count": null,
      "outputs": [
        {
          "output_type": "execute_result",
          "data": {
            "text/plain": [
              "1677"
            ]
          },
          "metadata": {},
          "execution_count": 170
        }
      ]
    },
    {
      "cell_type": "code",
      "source": [
        "x_start = 1677\n",
        "y_start = int(1677*m1+b1)\n",
        "\n",
        "def read_signal(x,y):\n",
        "  a = a_orig.copy()\n",
        "  i = 0\n",
        "  base = 0\n",
        "  a = a_orig.copy()\n",
        "  input, output, i, base = run(x, a, i, base)\n",
        "  input, output, i, base = run(y, a, i, base)\n",
        "  return output\n",
        "\n",
        "min_x = x_start\n",
        "min_y = y_start\n",
        "while x_start > 1000:\n",
        "  x_try, y_try = x_start-1, y_start\n",
        "  while True:\n",
        "    if read_signal(x_try, y_try-1) == 1:\n",
        "      y_try -= 1\n",
        "    else:\n",
        "      break\n",
        "\n",
        "  sum_signals = 0\n",
        "  for mx,my in [(x_try, y_try), (x_try-(w-1), y_try+(w-1))]:\n",
        "    sum_signals += read_signal(mx,my)\n",
        "  if sum_signals == 2:\n",
        "    min_x,min_y = x_try,y_try\n",
        "  x_start,y_start = x_try,y_try\n",
        "x_start, y_start"
      ],
      "metadata": {
        "colab": {
          "base_uri": "https://localhost:8080/"
        },
        "id": "-CiyNvgVfimV",
        "outputId": "20437ffd-6bc6-46bd-9360-a789e16b04da"
      },
      "execution_count": null,
      "outputs": [
        {
          "output_type": "execute_result",
          "data": {
            "text/plain": [
              "(1000, 811)"
            ]
          },
          "metadata": {},
          "execution_count": 194
        }
      ]
    },
    {
      "cell_type": "code",
      "source": [
        "min_x,min_y"
      ],
      "metadata": {
        "colab": {
          "base_uri": "https://localhost:8080/"
        },
        "id": "ccqoOV_5qIp8",
        "outputId": "159a3f15-bc15-4ee1-e86e-486fa887ec59"
      },
      "execution_count": null,
      "outputs": [
        {
          "output_type": "execute_result",
          "data": {
            "text/plain": [
              "(1663, 1348)"
            ]
          },
          "metadata": {},
          "execution_count": 195
        }
      ]
    },
    {
      "cell_type": "code",
      "source": [
        "for mx,my in [(min_x, min_y), (min_x-(w-1), min_y+(w-1))]:\n",
        "  print(mx,my, read_signal(mx,my))"
      ],
      "metadata": {
        "colab": {
          "base_uri": "https://localhost:8080/"
        },
        "id": "lqWMFtxemD1O",
        "outputId": "d3bfbc8f-2416-4d86-e63e-e8aa007264a4"
      },
      "execution_count": null,
      "outputs": [
        {
          "output_type": "stream",
          "name": "stdout",
          "text": [
            "1663 1348 1\n",
            "1564 1447 1\n"
          ]
        }
      ]
    },
    {
      "cell_type": "code",
      "source": [
        "import numpy as np\n",
        "a_orig = {i:int(x) for i,x in enumerate(line.split(','))}\n",
        "pad = 5\n",
        "r = np.zeros((w+pad*2,w+pad*2))\n",
        "x_start = 1564\n",
        "y_start = 1348\n",
        "print(x_start, y_start)\n",
        "for mx in range(x_start-pad, x_start+w+pad):\n",
        "  for my in range(y_start-pad, y_start+w+pad):\n",
        "    i = 0\n",
        "    base = 0\n",
        "    a = a_orig.copy()\n",
        "    input, output, i, base = run(mx, a, i, base)\n",
        "    input, output, i, base = run(my, a, i, base)\n",
        "    r[my-(y_start-pad),mx-(x_start-pad)] = output\n",
        "np.sum(r[pad:-pad,pad:-pad] == 1)"
      ],
      "metadata": {
        "colab": {
          "base_uri": "https://localhost:8080/"
        },
        "id": "J8xB7vaR74vv",
        "outputId": "0662b339-afc3-493a-e06a-67d3d1e31604"
      },
      "execution_count": null,
      "outputs": [
        {
          "output_type": "stream",
          "name": "stdout",
          "text": [
            "1564 1348\n"
          ]
        },
        {
          "output_type": "execute_result",
          "data": {
            "text/plain": [
              "10000"
            ]
          },
          "metadata": {},
          "execution_count": 200
        }
      ]
    },
    {
      "cell_type": "code",
      "source": [
        "plt.imshow(r, cmap='gray')\n",
        "plt.show()"
      ],
      "metadata": {
        "id": "-Ob2QVH_afHY",
        "colab": {
          "base_uri": "https://localhost:8080/",
          "height": 434
        },
        "outputId": "6c0fedf9-1eee-44e6-decc-901974ad986d"
      },
      "execution_count": null,
      "outputs": [
        {
          "output_type": "display_data",
          "data": {
            "text/plain": [
              "<Figure size 640x480 with 1 Axes>"
            ],
            "image/png": "[encoded data removed]"
          },
          "metadata": {}
        }
      ]
    },
    {
      "cell_type": "code",
      "source": [
        "plt.imshow(r[pad:-pad,pad:-pad], cmap='gray')\n",
        "plt.show()"
      ],
      "metadata": {
        "colab": {
          "base_uri": "https://localhost:8080/",
          "height": 433
        },
        "id": "I9GhU6xtTNLq",
        "outputId": "f5149263-ef63-4fb3-bf2c-0fddc13c82e8"
      },
      "execution_count": null,
      "outputs": [
        {
          "output_type": "display_data",
          "data": {
            "text/plain": [
              "<Figure size 640x480 with 1 Axes>"
            ],
            "image/png": "[encoded data removed]"
          },
          "metadata": {}
        }
      ]
    },
    {
      "cell_type": "code",
      "source": [
        "x_start*10000+y_start"
      ],
      "metadata": {
        "id": "eTzcO1iVMtAG",
        "colab": {
          "base_uri": "https://localhost:8080/"
        },
        "outputId": "fb11135f-2a75-4289-e35b-944972aa3788"
      },
      "execution_count": null,
      "outputs": [
        {
          "output_type": "execute_result",
          "data": {
            "text/plain": [
              "15641348"
            ]
          },
          "metadata": {},
          "execution_count": 203
        }
      ]
    },
    {
      "cell_type": "code",
      "source": [],
      "metadata": {
        "id": "wmYcD0ZsVCsV"
      },
      "execution_count": null,
      "outputs": []
    }
  ]
}