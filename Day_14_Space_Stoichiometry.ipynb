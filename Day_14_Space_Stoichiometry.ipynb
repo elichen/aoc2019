{
  "nbformat": 4,
  "nbformat_minor": 0,
  "metadata": {
    "colab": {
      "provenance": [],
      "authorship_tag": "ABX9TyOFmq5cGnqS3X/rfGSzFlsQ",
      "include_colab_link": true
    },
    "kernelspec": {
      "name": "python3",
      "display_name": "Python 3"
    },
    "language_info": {
      "name": "python"
    }
  },
  "cells": [
    {
      "cell_type": "markdown",
      "metadata": {
        "id": "view-in-github",
        "colab_type": "text"
      },
      "source": [
        "<a href=\"https://colab.research.google.com/github/elichen/aoc2019/blob/main/Day_14_Space_Stoichiometry.ipynb\" target=\"_parent\"><img src=\"https://colab.research.google.com/assets/colab-badge.svg\" alt=\"Open In Colab\"/></a>"
      ]
    },
    {
      "cell_type": "code",
      "execution_count": null,
      "metadata": {
        "id": "lorL9ziH18TS"
      },
      "outputs": [],
      "source": [
        "input_str = \"\"\"2 MLVWS, 8 LJNWK => 1 TNFQ\n",
        "1 BWXQJ => 2 BMWK\n",
        "1 JMGP, 3 WMJW => 9 JQCF\n",
        "8 BWXQJ, 10 BJWR => 6 QWSLS\n",
        "3 PLSH, 1 TNFQ => 6 CTPTW\n",
        "11 GQDJG, 5 BMWK, 1 FZCK => 7 RQCNC\n",
        "1 VWSRH => 7 PTGXM\n",
        "104 ORE => 7 VWSRH\n",
        "1 PTGXM, 13 WMJW, 1 BJGD => 7 KDHF\n",
        "12 QWSLS, 3 PLSH, 4 HFBPX, 2 DFTH, 11 BCTRK, 4 JPKWB, 4 MKMRC, 3 XQJZQ => 6 BDJK\n",
        "1 JQCF, 3 CVSC => 2 KRQHC\n",
        "128 ORE => 7 QLRXZ\n",
        "32 CXLWB, 18 TZWD => 1 HFQBG\n",
        "31 KDHF => 9 BWXQJ\n",
        "21 MLVWS => 9 LJNWK\n",
        "3 QLRXZ => 5 CXLWB\n",
        "3 LQWDR, 2 WSDH, 5 JPKWB, 1 RSTQC, 2 BJWR, 1 ZFNR, 16 QWSLS => 4 JTDT\n",
        "3 BWXQJ, 14 JMGP => 9 MSTS\n",
        "1 KXMKM, 2 LFCR => 9 DKWLT\n",
        "6 CVSC => 3 FWQVP\n",
        "6 XBVH, 1 HFBPX, 2 FZCK => 9 DFTH\n",
        "9 MSTS => 2 BCTRK\n",
        "1 PLSH, 28 MSTS => 2 FDKZ\n",
        "10 XBVH, 5 BJWR, 2 FWQVP => 6 ZFNR\n",
        "2 CVSC => 6 XBVH\n",
        "1 BWXQJ, 2 KXMKM => 3 XQJZQ\n",
        "1 VWSRH, 1 TZWD => 4 WMJW\n",
        "14 CTPTW, 19 JMGP => 8 GRWK\n",
        "13 NLGS, 1 PTGXM, 3 HFQBG => 5 BLVK\n",
        "2 PTGXM => 7 NLGS\n",
        "123 ORE => 3 DLPZ\n",
        "2 ZNRPX, 35 DKWLT => 3 WSDH\n",
        "1 TZWD, 1 BLVK, 9 BWXQJ => 2 MKDQF\n",
        "2 DLPZ => 2 MLVWS\n",
        "8 MKDQF, 4 JQCF, 12 VLMQJ => 8 VKCL\n",
        "1 KRQHC => 7 BJWR\n",
        "1 GRWK, 2 FWQVP => 9 LFCR\n",
        "2 MSTS => 2 GQDJG\n",
        "132 ORE => 9 TZWD\n",
        "1 FWQVP => 8 RHKZW\n",
        "43 FDKZ, 11 BJWR, 63 RHKZW, 4 PJCZB, 1 BDJK, 13 RQCNC, 8 JTDT, 3 DKWLT, 13 JPKWB => 1 FUEL\n",
        "1 LFCR, 5 DFTH => 1 RSTQC\n",
        "10 GQDJG => 8 KPTF\n",
        "4 BWXQJ, 1 MKDQF => 7 JMGP\n",
        "10 FGNPM, 23 DFTH, 2 CXLWB, 6 KPTF, 3 DKWLT, 10 MKDQF, 1 MJSG, 6 RSTQC => 8 PJCZB\n",
        "8 VWSRH, 1 DLPZ => 7 BJGD\n",
        "2 BLVK => 9 HBKH\n",
        "16 LQWDR, 3 MSTS => 9 HFBPX\n",
        "1 TNFQ, 29 HFQBG, 4 BLVK => 2 KXMKM\n",
        "11 CVSC => 8 MJSG\n",
        "3 LFCR => 6 FGNPM\n",
        "11 HFQBG, 13 MKDQF => 1 FZCK\n",
        "11 BWXQJ, 1 QLRXZ, 1 TNFQ => 9 KBTWZ\n",
        "7 XQJZQ, 6 VKCL => 7 LQWDR\n",
        "1 LJNWK, 4 HBKH => 1 CVSC\n",
        "4 PLSH, 2 WSDH, 2 KPTF => 5 JPKWB\n",
        "1 KPTF => 8 MKMRC\n",
        "5 NLGS, 2 KDHF, 1 KBTWZ => 2 VLMQJ\n",
        "4 MLVWS, 1 WMJW, 8 LJNWK => 1 PLSH\n",
        "3 VKCL => 7 ZNRPX\"\"\"\n",
        "# input_str = '''157 ORE => 5 NZVS\n",
        "# 165 ORE => 6 DCFZ\n",
        "# 44 XJWVT, 5 KHKGT, 1 QDVJ, 29 NZVS, 9 GPVTF, 48 HKGWZ => 1 FUEL\n",
        "# 12 HKGWZ, 1 GPVTF, 8 PSHF => 9 QDVJ\n",
        "# 179 ORE => 7 PSHF\n",
        "# 177 ORE => 5 HKGWZ\n",
        "# 7 DCFZ, 7 PSHF => 2 XJWVT\n",
        "# 165 ORE => 2 GPVTF\n",
        "# 3 DCFZ, 7 NZVS, 5 HKGWZ, 10 PSHF => 8 KHKGT'''\n",
        "\n",
        "lines = input_str.strip().split(\"\\n\")\n",
        "rd = {}\n",
        "\n",
        "for line in lines:\n",
        "    lhs, rhs = line.split(\" => \")\n",
        "    qty, output = rhs.split(\" \")\n",
        "    inputs = lhs.split(\", \")\n",
        "\n",
        "    parsed_inputs = [(int(qty), material) for qty, material in [item.split(\" \") for item in inputs]]\n",
        "\n",
        "    rd[output] = (int(qty), parsed_inputs)"
      ]
    },
    {
      "cell_type": "code",
      "source": [
        "def dfs(element, reaction_dict, cache):\n",
        "    if element == 'ORE':\n",
        "        return 0\n",
        "    if element in cache:\n",
        "        return cache[element]\n",
        "\n",
        "    max_dist = 0\n",
        "    _, ingredients = reaction_dict[element]\n",
        "    for _, ing in ingredients:\n",
        "        dist = 1 + dfs(ing, reaction_dict, cache)\n",
        "        max_dist = max(max_dist, dist)\n",
        "\n",
        "    cache[element] = max_dist\n",
        "    return max_dist\n",
        "\n",
        "cache = {}\n",
        "for element in rd.keys():\n",
        "    dfs(element, rd, cache)\n",
        "cache['ORE'] = 0"
      ],
      "metadata": {
        "id": "Kga5WB_oDdGW"
      },
      "execution_count": null,
      "outputs": []
    },
    {
      "cell_type": "code",
      "source": [
        "import math\n",
        "\n",
        "wd = {'FUEL':1}\n",
        "while not (len(wd) == 1 and \"ORE\" in wd):\n",
        "  sorted_keys = sorted(wd.keys(), key=lambda x: cache[x], reverse=True)\n",
        "  k = sorted_keys[0]\n",
        "  v = wd.pop(k)\n",
        "  kn, kl = rd[k]\n",
        "  mult = math.ceil(v/kn)\n",
        "  for c,item in kl:\n",
        "    wd[item] = wd.get(item,0) + c*mult\n",
        "  # print(wd)\n",
        "wd"
      ],
      "metadata": {
        "colab": {
          "base_uri": "https://localhost:8080/"
        },
        "id": "wOWxZeaM1bvT",
        "outputId": "995046c8-8157-4200-96cb-34fe2a89ad3f"
      },
      "execution_count": null,
      "outputs": [
        {
          "output_type": "execute_result",
          "data": {
            "text/plain": [
              "{'ORE': 1046184}"
            ]
          },
          "metadata": {},
          "execution_count": 164
        }
      ]
    },
    {
      "cell_type": "code",
      "source": [
        "import math\n",
        "\n",
        "start = 1000000000000 // wd['ORE']\n",
        "exit = False\n",
        "while not exit:\n",
        "  wd = {'FUEL':start}\n",
        "  while not (len(wd) == 1 and \"ORE\" in wd):\n",
        "    sorted_keys = sorted(wd.keys(), key=lambda x: cache[x], reverse=True)\n",
        "    k = sorted_keys[0]\n",
        "    v = wd.pop(k)\n",
        "    kn, kl = rd[k]\n",
        "    mult = math.ceil(v/kn)\n",
        "    for c,item in kl:\n",
        "      wd[item] = wd.get(item,0) + c*mult\n",
        "    # print(wd)\n",
        "  if wd['ORE'] > 1000000000000:\n",
        "    print(start - 1)\n",
        "    break\n",
        "  start += 1"
      ],
      "metadata": {
        "colab": {
          "base_uri": "https://localhost:8080/",
          "height": 250
        },
        "id": "SLSJtyrYHo5-",
        "outputId": "1c541cf3-9c6e-4f14-912d-153c1743ec57"
      },
      "execution_count": null,
      "outputs": [
        {
          "output_type": "error",
          "ename": "KeyboardInterrupt",
          "evalue": "ignored",
          "traceback": [
            "\u001b[0;31m---------------------------------------------------------------------------\u001b[0m",
            "\u001b[0;31mKeyboardInterrupt\u001b[0m                         Traceback (most recent call last)",
            "\u001b[0;32m<ipython-input-165-2ed92785922f>\u001b[0m in \u001b[0;36m<cell line: 5>\u001b[0;34m()\u001b[0m\n\u001b[1;32m      8\u001b[0m     \u001b[0msorted_keys\u001b[0m \u001b[0;34m=\u001b[0m \u001b[0msorted\u001b[0m\u001b[0;34m(\u001b[0m\u001b[0mwd\u001b[0m\u001b[0;34m.\u001b[0m\u001b[0mkeys\u001b[0m\u001b[0;34m(\u001b[0m\u001b[0;34m)\u001b[0m\u001b[0;34m,\u001b[0m \u001b[0mkey\u001b[0m\u001b[0;34m=\u001b[0m\u001b[0;32mlambda\u001b[0m \u001b[0mx\u001b[0m\u001b[0;34m:\u001b[0m \u001b[0mcache\u001b[0m\u001b[0;34m[\u001b[0m\u001b[0mx\u001b[0m\u001b[0;34m]\u001b[0m\u001b[0;34m,\u001b[0m \u001b[0mreverse\u001b[0m\u001b[0;34m=\u001b[0m\u001b[0;32mTrue\u001b[0m\u001b[0;34m)\u001b[0m\u001b[0;34m\u001b[0m\u001b[0;34m\u001b[0m\u001b[0m\n\u001b[1;32m      9\u001b[0m     \u001b[0mk\u001b[0m \u001b[0;34m=\u001b[0m \u001b[0msorted_keys\u001b[0m\u001b[0;34m[\u001b[0m\u001b[0;36m0\u001b[0m\u001b[0;34m]\u001b[0m\u001b[0;34m\u001b[0m\u001b[0;34m\u001b[0m\u001b[0m\n\u001b[0;32m---> 10\u001b[0;31m     \u001b[0mv\u001b[0m \u001b[0;34m=\u001b[0m \u001b[0mwd\u001b[0m\u001b[0;34m.\u001b[0m\u001b[0mpop\u001b[0m\u001b[0;34m(\u001b[0m\u001b[0mk\u001b[0m\u001b[0;34m)\u001b[0m\u001b[0;34m\u001b[0m\u001b[0;34m\u001b[0m\u001b[0m\n\u001b[0m\u001b[1;32m     11\u001b[0m     \u001b[0mkn\u001b[0m\u001b[0;34m,\u001b[0m \u001b[0mkl\u001b[0m \u001b[0;34m=\u001b[0m \u001b[0mrd\u001b[0m\u001b[0;34m[\u001b[0m\u001b[0mk\u001b[0m\u001b[0;34m]\u001b[0m\u001b[0;34m\u001b[0m\u001b[0;34m\u001b[0m\u001b[0m\n\u001b[1;32m     12\u001b[0m     \u001b[0mmult\u001b[0m \u001b[0;34m=\u001b[0m \u001b[0mmath\u001b[0m\u001b[0;34m.\u001b[0m\u001b[0mceil\u001b[0m\u001b[0;34m(\u001b[0m\u001b[0mv\u001b[0m\u001b[0;34m/\u001b[0m\u001b[0mkn\u001b[0m\u001b[0;34m)\u001b[0m\u001b[0;34m\u001b[0m\u001b[0;34m\u001b[0m\u001b[0m\n",
            "\u001b[0;31mKeyboardInterrupt\u001b[0m: "
          ]
        }
      ]
    }
  ]
}