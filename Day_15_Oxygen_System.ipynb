{
  "nbformat": 4,
  "nbformat_minor": 0,
  "metadata": {
    "colab": {
      "provenance": [],
      "authorship_tag": "ABX9TyN77m0uR1eFyreVS3Hhm23g",
      "include_colab_link": true
    },
    "kernelspec": {
      "name": "python3",
      "display_name": "Python 3"
    },
    "language_info": {
      "name": "python"
    }
  },
  "cells": [
    {
      "cell_type": "markdown",
      "metadata": {
        "id": "view-in-github",
        "colab_type": "text"
      },
      "source": [
        "<a href=\"https://colab.research.google.com/github/elichen/aoc2019/blob/main/Day_15_Oxygen_System.ipynb\" target=\"_parent\"><img src=\"https://colab.research.google.com/assets/colab-badge.svg\" alt=\"Open In Colab\"/></a>"
      ]
    },
    {
      "cell_type": "code",
      "execution_count": null,
      "metadata": {
        "id": "ZgEVmoS_VwZc"
      },
      "outputs": [],
      "source": [
        "line = \"3,1033,1008,1033,1,1032,1005,1032,31,1008,1033,2,1032,1005,1032,58,1008,1033,3,1032,1005,1032,81,1008,1033,4,1032,1005,1032,104,99,101,0,1034,1039,1001,1036,0,1041,1001,1035,-1,1040,1008,1038,0,1043,102,-1,1043,1032,1,1037,1032,1042,1106,0,124,1001,1034,0,1039,1001,1036,0,1041,1001,1035,1,1040,1008,1038,0,1043,1,1037,1038,1042,1106,0,124,1001,1034,-1,1039,1008,1036,0,1041,102,1,1035,1040,101,0,1038,1043,102,1,1037,1042,1105,1,124,1001,1034,1,1039,1008,1036,0,1041,101,0,1035,1040,1001,1038,0,1043,101,0,1037,1042,1006,1039,217,1006,1040,217,1008,1039,40,1032,1005,1032,217,1008,1040,40,1032,1005,1032,217,1008,1039,1,1032,1006,1032,165,1008,1040,3,1032,1006,1032,165,1101,0,2,1044,1105,1,224,2,1041,1043,1032,1006,1032,179,1102,1,1,1044,1106,0,224,1,1041,1043,1032,1006,1032,217,1,1042,1043,1032,1001,1032,-1,1032,1002,1032,39,1032,1,1032,1039,1032,101,-1,1032,1032,101,252,1032,211,1007,0,45,1044,1105,1,224,1101,0,0,1044,1106,0,224,1006,1044,247,1002,1039,1,1034,1002,1040,1,1035,1001,1041,0,1036,1002,1043,1,1038,102,1,1042,1037,4,1044,1106,0,0,7,39,95,7,98,8,11,47,17,33,19,4,29,41,87,34,59,22,75,5,1,46,41,29,32,11,55,25,53,41,77,27,52,33,41,65,72,24,43,83,72,3,14,92,2,43,82,30,87,19,94,47,91,10,8,67,24,4,68,85,63,4,93,29,55,34,23,65,40,3,36,90,57,97,37,2,65,8,1,16,83,93,67,44,71,97,27,70,76,20,40,90,36,73,27,89,57,13,66,37,95,76,26,84,33,48,34,86,85,30,81,6,61,33,83,84,22,21,67,27,11,49,28,69,41,60,98,6,69,41,54,82,18,37,65,10,42,47,41,2,72,16,66,39,93,37,2,41,52,49,20,78,30,7,38,15,40,81,21,14,82,44,48,7,96,33,36,70,52,18,71,1,81,66,47,1,38,78,80,38,63,53,80,16,58,55,93,31,89,36,36,78,65,71,34,83,4,55,60,29,10,30,84,15,59,31,96,16,21,58,26,38,35,58,50,16,46,25,26,82,59,12,11,98,4,17,42,66,83,72,23,14,92,22,9,5,87,5,79,85,19,87,71,28,61,32,56,92,56,19,78,94,39,24,73,58,28,37,81,11,99,25,46,73,44,5,22,41,76,55,84,31,16,36,65,84,40,29,81,66,16,94,23,54,23,29,51,20,25,23,69,44,23,18,99,80,55,39,10,71,7,33,63,94,93,62,26,35,25,50,61,39,84,38,54,43,56,23,67,17,70,34,23,90,93,24,46,60,31,46,33,53,81,10,62,23,89,86,43,39,73,82,38,9,61,42,66,68,30,28,95,4,25,54,22,21,80,32,61,13,6,66,47,59,4,31,59,17,87,72,30,72,51,30,30,62,43,53,88,42,48,13,21,80,8,30,61,14,77,22,27,60,87,30,65,14,33,76,67,9,95,26,84,40,21,52,11,86,23,30,86,57,28,6,69,4,11,63,21,2,65,51,39,58,82,16,51,96,23,3,44,21,62,31,38,47,73,30,29,94,24,14,88,1,51,72,42,57,48,63,33,95,78,15,17,68,64,61,10,31,58,68,36,15,52,19,13,26,38,72,41,66,15,56,88,18,98,87,15,43,89,96,3,94,55,25,26,27,6,48,3,29,90,88,6,18,29,88,90,43,3,81,61,16,31,93,42,26,46,31,56,66,17,76,37,15,50,33,81,16,10,83,87,37,39,92,80,62,6,59,77,9,32,91,61,97,24,44,62,61,11,36,94,59,54,34,23,67,18,86,31,39,77,73,44,67,27,57,5,54,65,29,21,81,2,65,39,24,82,6,55,33,97,72,35,16,85,19,28,57,94,21,15,86,5,52,53,39,69,20,32,52,5,86,95,44,47,77,9,57,14,62,49,54,7,70,29,16,42,87,99,30,36,67,68,14,42,73,4,87,97,39,61,18,11,39,77,83,17,83,27,1,72,30,21,95,38,35,96,15,78,27,66,40,4,95,90,94,4,20,63,71,19,54,11,28,96,46,13,42,94,84,9,22,79,37,14,50,13,58,64,90,30,69,18,20,90,4,21,31,95,88,22,81,36,20,11,82,59,95,38,43,72,3,78,38,33,62,48,36,22,16,3,87,53,91,37,12,19,49,18,25,14,67,78,79,9,70,88,34,98,38,8,90,98,56,13,26,34,82,77,40,97,82,63,32,57,26,58,53,29,56,3,62,17,78,67,69,33,49,62,47,36,60,9,81,12,96,6,78,86,98,34,70,41,87,86,47,15,46,36,49,20,76,31,48,1,68,19,96,0,0,21,21,1,10,1,0,0,0,0,0,0\""
      ]
    },
    {
      "cell_type": "code",
      "source": [
        "def get_val(index, mode, base, arr):\n",
        "    if mode == 0:\n",
        "      return arr.get(arr.get(index,0),0)\n",
        "    elif mode == 1:\n",
        "      return arr.get(index,0)\n",
        "    elif mode == 2:\n",
        "      return arr.get(arr.get(index,0)+base,0)\n",
        "\n",
        "def run(input, a, i=0, base=0):\n",
        "    while i < len(a):\n",
        "        m3, m2, m1, op = a[i] // 10000, a[i] // 1000 % 10, a[i] // 100 % 10, a[i] % 100\n",
        "        a1 = get_val(i + 1, m1, base, a)\n",
        "        a2 = get_val(i + 2, m2, base, a)\n",
        "\n",
        "        if op == 1:\n",
        "            addr = a[i+3]+base if m3 == 2 else a[i+3]\n",
        "            a[addr] = a1 + a2\n",
        "            i += 4\n",
        "        elif op == 2:\n",
        "            addr = a[i+3]+base if m3 == 2 else a[i+3]\n",
        "            a[addr] = a1 * a2\n",
        "            i += 4\n",
        "        elif op == 3:\n",
        "            addr = a[i+1]+base if m1 == 2 else a[i+1]\n",
        "            a[addr] = input\n",
        "            i += 2\n",
        "        elif op == 4:\n",
        "            return a1, i+2, base\n",
        "        elif op == 5:\n",
        "            i = a2 if a1 != 0 else i + 3\n",
        "        elif op == 6:\n",
        "            i = a2 if a1 == 0 else i + 3\n",
        "        elif op == 7:\n",
        "            addr = a[i+3]+base if m3 == 2 else a[i+3]\n",
        "            a[addr] = 1 if a1 < a2 else 0\n",
        "            i += 4\n",
        "        elif op == 8:\n",
        "            addr = a[i+3]+base if m3 == 2 else a[i+3]\n",
        "            a[addr] = 1 if a1 == a2 else 0\n",
        "            i += 4\n",
        "        elif op == 9:\n",
        "            base += a1\n",
        "            i += 2\n",
        "        elif op == 99:\n",
        "            return None, None, None"
      ],
      "metadata": {
        "id": "J4CM8tBAx2Tx"
      },
      "execution_count": null,
      "outputs": []
    },
    {
      "cell_type": "code",
      "source": [
        "import numpy as np\n",
        "import sys\n",
        "\n",
        "a = {i:int(x) for i,x in enumerate(line.split(','))}\n",
        "mapsize = 100\n",
        "m = np.zeros((mapsize,mapsize), dtype=int)\n",
        "x,y = mapsize//2,mapsize//2\n",
        "m[y,x] = 1\n",
        "\n",
        "init = {\"x\":x, \"y\":y, \"m\":m, \"a\":a, \"i\":0, \"base\":0}\n",
        "moves = 0\n",
        "repair_moves = None\n",
        "next = [init]\n",
        "dir_offset = [0, (0,1), (0,-1), (-1,0), (1,0)]\n",
        "while len(next) > 0:\n",
        "  next_round = []\n",
        "  for state in next:\n",
        "    for dir in range(1,5):\n",
        "      x,y = state['x']+dir_offset[dir][0], state['y']+dir_offset[dir][1]\n",
        "      if x < 0 or x >= mapsize or y < 0 or y >= mapsize: continue\n",
        "      if state['m'][y, x] != 0: continue\n",
        "      a_copy = state['a'].copy()\n",
        "      output, i, base = run(dir, a_copy, state['i'], state['base'])\n",
        "      if output > 0:\n",
        "        m[y,x] = output\n",
        "        if output == 2:\n",
        "          repair_moves = moves+1\n",
        "        next_round.append({'x':x, 'y':y, 'm':m, 'a':a_copy, 'i': i, 'base':base})\n",
        "  next = next_round\n",
        "  moves += 1"
      ],
      "metadata": {
        "id": "pR6oRjt1OvF3"
      },
      "execution_count": null,
      "outputs": []
    },
    {
      "cell_type": "code",
      "source": [
        "repair_moves"
      ],
      "metadata": {
        "colab": {
          "base_uri": "https://localhost:8080/"
        },
        "id": "ZYvx8LLXu2ct",
        "outputId": "c8763ceb-e5b9-43ec-84d2-7ffa06dcb34b"
      },
      "execution_count": null,
      "outputs": [
        {
          "output_type": "execute_result",
          "data": {
            "text/plain": [
              "246"
            ]
          },
          "metadata": {},
          "execution_count": 5
        }
      ]
    },
    {
      "cell_type": "code",
      "source": [
        "import matplotlib.pyplot as plt\n",
        "\n",
        "plt.imshow(m, cmap='viridis', interpolation='nearest')\n",
        "plt.show()"
      ],
      "metadata": {
        "colab": {
          "base_uri": "https://localhost:8080/",
          "height": 433
        },
        "id": "3ErvIiI2chj_",
        "outputId": "d8e7cff8-5457-4d54-e4c9-c28dab3b9c53"
      },
      "execution_count": null,
      "outputs": [
        {
          "output_type": "display_data",
          "data": {
            "text/plain": [
              "<Figure size 640x480 with 1 Axes>"
            ],
            "image/png": "[encoded data removed]"
          },
          "metadata": {}
        }
      ]
    },
    {
      "cell_type": "code",
      "source": [
        "m_orig = m.copy()"
      ],
      "metadata": {
        "id": "sJBWy4ofl5rw"
      },
      "execution_count": null,
      "outputs": []
    },
    {
      "cell_type": "code",
      "source": [
        "m = m_orig.copy()\n",
        "(oy,),(ox,) = np.where(m == 2)\n",
        "next = [(ox,oy)]\n",
        "moves = 0\n",
        "while True:\n",
        "  next_round = []\n",
        "  for nx,ny in next:\n",
        "    for dir in range(1,5):\n",
        "      x,y = nx+dir_offset[dir][0], ny+dir_offset[dir][1]\n",
        "      if x < 0 or x >= mapsize or y < 0 or y >= mapsize: continue\n",
        "      if m[y, x] != 1: continue\n",
        "      m[y,x] = 2\n",
        "      next_round.append((x,y))\n",
        "  next = next_round\n",
        "  if len(next) == 0: break\n",
        "  moves += 1\n",
        "moves"
      ],
      "metadata": {
        "colab": {
          "base_uri": "https://localhost:8080/"
        },
        "id": "Xpml4P9Kw54S",
        "outputId": "469ff0ad-0ee7-4b1d-d081-556a09d1f416"
      },
      "execution_count": null,
      "outputs": [
        {
          "output_type": "execute_result",
          "data": {
            "text/plain": [
              "376"
            ]
          },
          "metadata": {},
          "execution_count": 12
        }
      ]
    },
    {
      "cell_type": "code",
      "source": [
        "plt.imshow(m, cmap='viridis', interpolation='nearest')\n",
        "plt.show()"
      ],
      "metadata": {
        "colab": {
          "base_uri": "https://localhost:8080/",
          "height": 433
        },
        "id": "MM_1BajJlfs3",
        "outputId": "f0360b27-6e90-4e5e-93b1-7c791e0c70f2"
      },
      "execution_count": null,
      "outputs": [
        {
          "output_type": "display_data",
          "data": {
            "text/plain": [
              "<Figure size 640x480 with 1 Axes>"
            ],
            "image/png": "[encoded data removed]"
          },
          "metadata": {}
        }
      ]
    },
    {
      "cell_type": "code",
      "source": [
        "m[70,31]"
      ],
      "metadata": {
        "colab": {
          "base_uri": "https://localhost:8080/"
        },
        "id": "S5FD5XXlmxi2",
        "outputId": "67420edf-9d07-4cdc-8516-f341878b4e66"
      },
      "execution_count": null,
      "outputs": [
        {
          "output_type": "execute_result",
          "data": {
            "text/plain": [
              "2"
            ]
          },
          "metadata": {},
          "execution_count": 10
        }
      ]
    }
  ]
}