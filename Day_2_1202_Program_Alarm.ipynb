{
  "nbformat": 4,
  "nbformat_minor": 0,
  "metadata": {
    "colab": {
      "provenance": [],
      "authorship_tag": "ABX9TyNspdkApJ2PQjaa8mcIuts1",
      "include_colab_link": true
    },
    "kernelspec": {
      "name": "python3",
      "display_name": "Python 3"
    },
    "language_info": {
      "name": "python"
    }
  },
  "cells": [
    {
      "cell_type": "markdown",
      "metadata": {
        "id": "view-in-github",
        "colab_type": "text"
      },
      "source": [
        "<a href=\"https://colab.research.google.com/github/elichen/aoc2019/blob/main/Day_2_1202_Program_Alarm.ipynb\" target=\"_parent\"><img src=\"https://colab.research.google.com/assets/colab-badge.svg\" alt=\"Open In Colab\"/></a>"
      ]
    },
    {
      "cell_type": "code",
      "execution_count": null,
      "metadata": {
        "id": "ZgEVmoS_VwZc"
      },
      "outputs": [],
      "source": [
        "input = \"1,0,0,3,1,1,2,3,1,3,4,3,1,5,0,3,2,1,10,19,1,19,5,23,2,23,6,27,1,27,5,31,2,6,31,35,1,5,35,39,2,39,9,43,1,43,5,47,1,10,47,51,1,51,6,55,1,55,10,59,1,59,6,63,2,13,63,67,1,9,67,71,2,6,71,75,1,5,75,79,1,9,79,83,2,6,83,87,1,5,87,91,2,6,91,95,2,95,9,99,1,99,6,103,1,103,13,107,2,13,107,111,2,111,10,115,1,115,6,119,1,6,119,123,2,6,123,127,1,127,5,131,2,131,6,135,1,135,2,139,1,139,9,0,99,2,14,0,0\""
      ]
    },
    {
      "cell_type": "code",
      "source": [
        "l = [int(x) for x in input.split(',')]\n",
        "def run(n,v,l):\n",
        "  p = l.copy()\n",
        "  p[1] = n\n",
        "  p[2] = v\n",
        "  i = 0\n",
        "  while i < len(p):\n",
        "    if p[i] == 1:\n",
        "      p[p[i+3]] = p[p[i+1]] + p[p[i+2]]\n",
        "    elif p[i] == 2:\n",
        "      p[p[i+3]] = p[p[i+1]] * p[p[i+2]]\n",
        "    elif p[i] == 99:\n",
        "      break\n",
        "    i += 4\n",
        "  return p[0]\n",
        "run(12,2,l)"
      ],
      "metadata": {
        "colab": {
          "base_uri": "https://localhost:8080/"
        },
        "id": "V-bOqRdOV1us",
        "outputId": "3d496aac-b2e9-4b75-ad9d-674c73c8ee18"
      },
      "execution_count": null,
      "outputs": [
        {
          "output_type": "execute_result",
          "data": {
            "text/plain": [
              "5866663"
            ]
          },
          "metadata": {},
          "execution_count": 28
        }
      ]
    },
    {
      "cell_type": "code",
      "source": [
        "for n in range(100):\n",
        "  for v in range(100):\n",
        "    if run(n,v,l) == 19690720:\n",
        "      print(100 * n + v)"
      ],
      "metadata": {
        "colab": {
          "base_uri": "https://localhost:8080/"
        },
        "id": "SnX-QWEAXd20",
        "outputId": "36e0d630-705d-4e9f-f326-17acc3e97c9f"
      },
      "execution_count": null,
      "outputs": [
        {
          "output_type": "stream",
          "name": "stdout",
          "text": [
            "4259\n"
          ]
        }
      ]
    }
  ]
}