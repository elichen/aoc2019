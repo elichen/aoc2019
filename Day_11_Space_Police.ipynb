{
  "nbformat": 4,
  "nbformat_minor": 0,
  "metadata": {
    "colab": {
      "provenance": [],
      "authorship_tag": "ABX9TyMP6kWdm7yViFnk+YTUb89L",
      "include_colab_link": true
    },
    "kernelspec": {
      "name": "python3",
      "display_name": "Python 3"
    },
    "language_info": {
      "name": "python"
    }
  },
  "cells": [
    {
      "cell_type": "markdown",
      "metadata": {
        "id": "view-in-github",
        "colab_type": "text"
      },
      "source": [
        "<a href=\"https://colab.research.google.com/github/elichen/aoc2019/blob/main/Day_11_Space_Police.ipynb\" target=\"_parent\"><img src=\"https://colab.research.google.com/assets/colab-badge.svg\" alt=\"Open In Colab\"/></a>"
      ]
    },
    {
      "cell_type": "code",
      "execution_count": null,
      "metadata": {
        "id": "ZgEVmoS_VwZc"
      },
      "outputs": [],
      "source": [
        "line = \"3,8,1005,8,311,1106,0,11,0,0,0,104,1,104,0,3,8,102,-1,8,10,1001,10,1,10,4,10,108,0,8,10,4,10,1002,8,1,28,1006,0,2,2,109,10,10,1,1,19,10,1,1103,20,10,3,8,102,-1,8,10,1001,10,1,10,4,10,108,1,8,10,4,10,1002,8,1,65,1006,0,33,1,7,0,10,3,8,102,-1,8,10,101,1,10,10,4,10,108,0,8,10,4,10,1002,8,1,94,3,8,102,-1,8,10,1001,10,1,10,4,10,108,1,8,10,4,10,101,0,8,116,1,1002,1,10,3,8,1002,8,-1,10,1001,10,1,10,4,10,108,0,8,10,4,10,1002,8,1,142,2,1101,6,10,3,8,1002,8,-1,10,101,1,10,10,4,10,108,0,8,10,4,10,1001,8,0,168,2,1107,7,10,1006,0,68,1,5,6,10,1,2,5,10,3,8,1002,8,-1,10,1001,10,1,10,4,10,1008,8,0,10,4,10,1002,8,1,206,1,1008,16,10,3,8,102,-1,8,10,1001,10,1,10,4,10,1008,8,1,10,4,10,1001,8,0,232,3,8,102,-1,8,10,101,1,10,10,4,10,108,1,8,10,4,10,102,1,8,253,1006,0,30,2,1,4,10,1,1008,1,10,2,1109,4,10,3,8,102,-1,8,10,1001,10,1,10,4,10,1008,8,1,10,4,10,102,1,8,291,101,1,9,9,1007,9,1051,10,1005,10,15,99,109,633,104,0,104,1,21102,387508339604,1,1,21102,1,328,0,1106,0,432,21101,0,47677022988,1,21101,0,339,0,1106,0,432,3,10,104,0,104,1,3,10,104,0,104,0,3,10,104,0,104,1,3,10,104,0,104,1,3,10,104,0,104,0,3,10,104,0,104,1,21102,209382822080,1,1,21102,386,1,0,1105,1,432,21101,179318123523,0,1,21102,1,397,0,1105,1,432,3,10,104,0,104,0,3,10,104,0,104,0,21102,709584904960,1,1,21101,420,0,0,1106,0,432,21102,709580444008,1,1,21102,431,1,0,1105,1,432,99,109,2,21202,-1,1,1,21102,1,40,2,21101,0,463,3,21101,0,453,0,1105,1,496,109,-2,2105,1,0,0,1,0,0,1,109,2,3,10,204,-1,1001,458,459,474,4,0,1001,458,1,458,108,4,458,10,1006,10,490,1101,0,0,458,109,-2,2106,0,0,0,109,4,2102,1,-1,495,1207,-3,0,10,1006,10,513,21102,1,0,-3,21202,-3,1,1,22102,1,-2,2,21102,1,1,3,21102,532,1,0,1106,0,537,109,-4,2105,1,0,109,5,1207,-3,1,10,1006,10,560,2207,-4,-2,10,1006,10,560,21201,-4,0,-4,1106,0,628,22101,0,-4,1,21201,-3,-1,2,21202,-2,2,3,21101,579,0,0,1105,1,537,21201,1,0,-4,21101,1,0,-1,2207,-4,-2,10,1006,10,598,21102,0,1,-1,22202,-2,-1,-2,2107,0,-3,10,1006,10,620,21201,-1,0,1,21101,0,620,0,106,0,495,21202,-2,-1,-2,22201,-4,-2,-4,109,-5,2105,1,0\""
      ]
    },
    {
      "cell_type": "code",
      "source": [
        "def get_val(index, mode, base, arr):\n",
        "    if mode == 0:\n",
        "      return arr.get(arr.get(index,0),0)\n",
        "    elif mode == 1:\n",
        "      return arr.get(index,0)\n",
        "    elif mode == 2:\n",
        "      return arr.get(arr.get(index,0)+base,0)\n",
        "\n",
        "def run(input, a, i=0, base=0):\n",
        "    while i < len(a):\n",
        "        m3, m2, m1, op = a[i] // 10000, a[i] // 1000 % 10, a[i] // 100 % 10, a[i] % 100\n",
        "        a1 = get_val(i + 1, m1, base, a)\n",
        "        a2 = get_val(i + 2, m2, base, a)\n",
        "\n",
        "        if op == 1:\n",
        "            addr = a[i+3]+base if m3 == 2 else a[i+3]\n",
        "            a[addr] = a1 + a2\n",
        "            i += 4\n",
        "        elif op == 2:\n",
        "            addr = a[i+3]+base if m3 == 2 else a[i+3]\n",
        "            a[addr] = a1 * a2\n",
        "            i += 4\n",
        "        elif op == 3:\n",
        "            addr = a[i+1]+base if m1 == 2 else a[i+1]\n",
        "            a[addr] = input\n",
        "            i += 2\n",
        "        elif op == 4:\n",
        "            return a1, i+2, base\n",
        "        elif op == 5:\n",
        "            i = a2 if a1 != 0 else i + 3\n",
        "        elif op == 6:\n",
        "            i = a2 if a1 == 0 else i + 3\n",
        "        elif op == 7:\n",
        "            addr = a[i+3]+base if m3 == 2 else a[i+3]\n",
        "            a[addr] = 1 if a1 < a2 else 0\n",
        "            i += 4\n",
        "        elif op == 8:\n",
        "            addr = a[i+3]+base if m3 == 2 else a[i+3]\n",
        "            a[addr] = 1 if a1 == a2 else 0\n",
        "            i += 4\n",
        "        elif op == 9:\n",
        "            base += a1\n",
        "            i += 2\n",
        "        elif op == 99:\n",
        "            return None, None, None"
      ],
      "metadata": {
        "id": "J4CM8tBAx2Tx"
      },
      "execution_count": null,
      "outputs": []
    },
    {
      "cell_type": "code",
      "source": [
        "import numpy as np\n",
        "mapsize = 200\n",
        "m = np.zeros((mapsize,mapsize), dtype=int)\n",
        "painted = set()\n",
        "cur_x, cur_y = mapsize//2, mapsize//2\n",
        "dirs = [(0,-1),(1,0),(0,1),(-1,0)]\n",
        "cur_dir = 0\n",
        "a = {i:int(x) for i,x in enumerate(line.split(','))}\n",
        "i = 0\n",
        "base = 0\n",
        "while True:\n",
        "# for _ in range(10):\n",
        "  input = m[cur_y, cur_x]\n",
        "  out1, i, base = run(input, a, i, base)\n",
        "  if out1 == None: break\n",
        "  m[cur_y, cur_x] = out1\n",
        "  painted.add((cur_y, cur_x))\n",
        "  out2, i, base = run(input, a, i, base)\n",
        "  if out2 == None: break\n",
        "  # print(cur_x,cur_y,cur_dir, out1,out2)\n",
        "  if out2 == 0:\n",
        "    cur_dir = (cur_dir-1)%4\n",
        "  else:\n",
        "    cur_dir = (cur_dir+1)%4\n",
        "  cur_x,cur_y = cur_x+dirs[cur_dir][0],cur_y+dirs[cur_dir][1]"
      ],
      "metadata": {
        "id": "g-W6gZI1iW0Y"
      },
      "execution_count": null,
      "outputs": []
    },
    {
      "cell_type": "code",
      "source": [
        "len(painted)"
      ],
      "metadata": {
        "colab": {
          "base_uri": "https://localhost:8080/"
        },
        "id": "uvUoKpYKo-ON",
        "outputId": "5c0b1906-9122-4878-9830-0791981f8b0b"
      },
      "execution_count": null,
      "outputs": [
        {
          "output_type": "execute_result",
          "data": {
            "text/plain": [
              "2276"
            ]
          },
          "metadata": {},
          "execution_count": 99
        }
      ]
    },
    {
      "cell_type": "code",
      "source": [
        "import numpy as np\n",
        "import matplotlib.pyplot as plt\n",
        "\n",
        "mapsize = 200\n",
        "m = np.zeros((mapsize,mapsize), dtype=int)\n",
        "painted = set()\n",
        "cur_x, cur_y = mapsize//2, mapsize//2\n",
        "m[cur_x, cur_y] = 1\n",
        "dirs = [(0,-1),(1,0),(0,1),(-1,0)]\n",
        "cur_dir = 0\n",
        "a = {i:int(x) for i,x in enumerate(line.split(','))}\n",
        "i = 0\n",
        "base = 0\n",
        "while True:\n",
        "  input = m[cur_y, cur_x]\n",
        "  out1, i, base = run(input, a, i, base)\n",
        "  if out1 == None: break\n",
        "  m[cur_y, cur_x] = out1\n",
        "  painted.add((cur_y, cur_x))\n",
        "  out2, i, base = run(input, a, i, base)\n",
        "  if out2 == None: break\n",
        "  # print(cur_x,cur_y,cur_dir, out1,out2)\n",
        "  if out2 == 0:\n",
        "    cur_dir = (cur_dir-1)%4\n",
        "  else:\n",
        "    cur_dir = (cur_dir+1)%4\n",
        "  cur_x,cur_y = cur_x+dirs[cur_dir][0],cur_y+dirs[cur_dir][1]\n",
        "\n",
        "# Display the array as an image\n",
        "plt.imshow(m, cmap='binary')\n",
        "plt.axis('off')  # Turn off axis labels\n",
        "plt.show()"
      ],
      "metadata": {
        "colab": {
          "base_uri": "https://localhost:8080/",
          "height": 406
        },
        "id": "kssc6i9RqCsv",
        "outputId": "3e7e9a50-b8f8-4823-ca63-6981ed148560"
      },
      "execution_count": null,
      "outputs": [
        {
          "output_type": "display_data",
          "data": {
            "text/plain": [
              "<Figure size 640x480 with 1 Axes>"
            ],
            "image/png": "[encoded data removed]"
          },
          "metadata": {}
        }
      ]
    },
    {
      "cell_type": "code",
      "source": [],
      "metadata": {
        "id": "yqKw3srssDtx"
      },
      "execution_count": null,
      "outputs": []
    }
  ]
}