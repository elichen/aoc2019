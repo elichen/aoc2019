{
  "nbformat": 4,
  "nbformat_minor": 0,
  "metadata": {
    "colab": {
      "provenance": [],
      "authorship_tag": "ABX9TyO5BlyLqvbF1vPimooiehc8",
      "include_colab_link": true
    },
    "kernelspec": {
      "name": "python3",
      "display_name": "Python 3"
    },
    "language_info": {
      "name": "python"
    }
  },
  "cells": [
    {
      "cell_type": "markdown",
      "metadata": {
        "id": "view-in-github",
        "colab_type": "text"
      },
      "source": [
        "<a href=\"https://colab.research.google.com/github/elichen/aoc2019/blob/main/Day_6_Universal_Orbit_Map.ipynb\" target=\"_parent\"><img src=\"https://colab.research.google.com/assets/colab-badge.svg\" alt=\"Open In Colab\"/></a>"
      ]
    },
    {
      "cell_type": "code",
      "source": [
        "input = \"\"\"COM)B\n",
        "B)C\n",
        "C)D\n",
        "D)E\n",
        "E)F\n",
        "B)G\n",
        "G)H\n",
        "D)I\n",
        "E)J\n",
        "J)K\n",
        "K)L\n",
        "K)YOU\n",
        "I)SAN\"\"\"\n",
        "input = input.split('\\n')"
      ],
      "metadata": {
        "id": "pFimJZeEUGFz"
      },
      "execution_count": null,
      "outputs": []
    },
    {
      "cell_type": "code",
      "source": [
        "input = [x.rstrip() for x in open(\"input.txt\").readlines()]"
      ],
      "metadata": {
        "id": "eJBe2E4sVhEC"
      },
      "execution_count": null,
      "outputs": []
    },
    {
      "cell_type": "code",
      "execution_count": null,
      "metadata": {
        "id": "_hVpuo7DT0l-"
      },
      "outputs": [],
      "source": [
        "def parse_to_dag(lines):\n",
        "    dag = {}\n",
        "    for line in lines:\n",
        "        parent, child = line.split(')')\n",
        "        if parent in dag:\n",
        "            dag[parent].append(child)\n",
        "        else:\n",
        "            dag[parent] = [child]\n",
        "    return dag\n",
        "\n",
        "dag = parse_to_dag(input)"
      ]
    },
    {
      "cell_type": "code",
      "source": [
        "from collections import deque\n",
        "\n",
        "def bfs_path_lengths(dag, root='COM'):\n",
        "    path_lengths = {root: 0}\n",
        "    queue = deque([(root, 0)])\n",
        "\n",
        "    while queue:\n",
        "        node, length = queue.popleft()\n",
        "\n",
        "        for child in dag.get(node, []):\n",
        "            path_lengths[child] = length + 1\n",
        "            queue.append((child, length + 1))\n",
        "\n",
        "    return path_lengths\n",
        "\n",
        "orbits = bfs_path_lengths(dag)"
      ],
      "metadata": {
        "id": "eSCbjsC-VHUE"
      },
      "execution_count": null,
      "outputs": []
    },
    {
      "cell_type": "code",
      "source": [
        "sum(orbits.values())"
      ],
      "metadata": {
        "colab": {
          "base_uri": "https://localhost:8080/"
        },
        "id": "vHKjSrObVWm1",
        "outputId": "942c4f82-5c22-4796-a2ce-b2a1a7ab9056"
      },
      "execution_count": null,
      "outputs": [
        {
          "output_type": "execute_result",
          "data": {
            "text/plain": [
              "295936"
            ]
          },
          "metadata": {},
          "execution_count": 36
        }
      ]
    },
    {
      "cell_type": "code",
      "source": [
        "def parse_to_bidirectional_graph(lines):\n",
        "    graph = {}\n",
        "    for line in lines:\n",
        "        parent, child = line.split(')')\n",
        "        if parent not in graph:\n",
        "            graph[parent] = []\n",
        "        if child not in graph:\n",
        "            graph[child] = []\n",
        "        graph[parent].append(child)\n",
        "        graph[child].append(parent)\n",
        "    return graph\n",
        "\n",
        "g = parse_to_bidirectional_graph(input)"
      ],
      "metadata": {
        "id": "yScgUHXSWlev"
      },
      "execution_count": null,
      "outputs": []
    },
    {
      "cell_type": "code",
      "source": [
        "from collections import deque\n",
        "\n",
        "def bfs_shortest_path(graph, start, end):\n",
        "    visited = set()\n",
        "    queue = deque([(start, 0)])  # (node, distance)\n",
        "\n",
        "    while queue:\n",
        "        curr_node, curr_dist = queue.popleft()\n",
        "\n",
        "        if curr_node == end:\n",
        "            return curr_dist\n",
        "\n",
        "        if curr_node not in visited:\n",
        "            visited.add(curr_node)\n",
        "\n",
        "            for neighbor in graph[curr_node]:\n",
        "                if neighbor not in visited:\n",
        "                    queue.append((neighbor, curr_dist + 1))\n",
        "\n",
        "    return -1  # return -1 if there is no path between start and end\n",
        "\n",
        "bfs_shortest_path(g, g['YOU'][0], g['SAN'][0])"
      ],
      "metadata": {
        "colab": {
          "base_uri": "https://localhost:8080/"
        },
        "id": "9gSrAACAXDiW",
        "outputId": "74670054-4493-4d47-ba70-b2e346d48d41"
      },
      "execution_count": null,
      "outputs": [
        {
          "output_type": "execute_result",
          "data": {
            "text/plain": [
              "457"
            ]
          },
          "metadata": {},
          "execution_count": 38
        }
      ]
    }
  ]
}