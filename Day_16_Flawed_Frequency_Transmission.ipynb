{
  "nbformat": 4,
  "nbformat_minor": 0,
  "metadata": {
    "colab": {
      "provenance": [],
      "authorship_tag": "ABX9TyMgPWdizGKOSWx54fKnWfsC",
      "include_colab_link": true
    },
    "kernelspec": {
      "name": "python3",
      "display_name": "Python 3"
    },
    "language_info": {
      "name": "python"
    }
  },
  "cells": [
    {
      "cell_type": "markdown",
      "metadata": {
        "id": "view-in-github",
        "colab_type": "text"
      },
      "source": [
        "<a href=\"https://colab.research.google.com/github/elichen/aoc2019/blob/main/Day_16_Flawed_Frequency_Transmission.ipynb\" target=\"_parent\"><img src=\"https://colab.research.google.com/assets/colab-badge.svg\" alt=\"Open In Colab\"/></a>"
      ]
    },
    {
      "cell_type": "code",
      "execution_count": null,
      "metadata": {
        "id": "-Mcnm-3himif"
      },
      "outputs": [],
      "source": [
        "input = \"59750530221324194853012320069589312027523989854830232144164799228029162830477472078089790749906142587998642764059439173975199276254972017316624772614925079238407309384923979338502430726930592959991878698412537971672558832588540600963437409230550897544434635267172603132396722812334366528344715912756154006039512272491073906389218927420387151599044435060075148142946789007756800733869891008058075303490106699737554949348715600795187032293436328810969288892220127730287766004467730818489269295982526297430971411865028098708555709525646237713045259603175397623654950719275982134690893685598734136409536436003548128411943963263336042840301380655801969822\"\n",
        "pattern = [0,1,0,-1]"
      ]
    },
    {
      "cell_type": "code",
      "source": [
        "from tqdm.notebook import tqdm"
      ],
      "metadata": {
        "id": "RSUrVXozmAzP"
      },
      "execution_count": null,
      "outputs": []
    },
    {
      "cell_type": "code",
      "source": [
        "cur = input\n",
        "for _ in tqdm(range(100)):\n",
        "  digits = \"\"\n",
        "  for i in range(len(cur)):\n",
        "    sum = 0\n",
        "    for j in range(len(cur)):\n",
        "      sum += int(cur[j])*pattern[((j+1)//(i+1))%len(pattern)]\n",
        "    digits += str(abs(sum)%10)\n",
        "  cur = digits\n",
        "cur"
      ],
      "metadata": {
        "id": "qUTOd0waipyy"
      },
      "execution_count": null,
      "outputs": []
    },
    {
      "cell_type": "code",
      "source": [
        "idx = len(input)*10000 - int(input[:7])\n",
        "prev = list(input) * math.ceil(idx / len(input))\n",
        "for _ in tqdm(range(100)):\n",
        "  next = prev.copy()\n",
        "  sum = 0\n",
        "  for i in range(idx):\n",
        "    sum += int(prev[len(prev)-1-i])\n",
        "    next[len(prev)-1-i] = str(sum%10)\n",
        "  prev = next\n",
        "\"\".join(prev[-idx:-idx+8])"
      ],
      "metadata": {
        "id": "ME3ba1uEkZ8U"
      },
      "execution_count": null,
      "outputs": []
    },
    {
      "cell_type": "code",
      "source": [],
      "metadata": {
        "id": "vwTgwrHK6JdG"
      },
      "execution_count": null,
      "outputs": []
    }
  ]
}