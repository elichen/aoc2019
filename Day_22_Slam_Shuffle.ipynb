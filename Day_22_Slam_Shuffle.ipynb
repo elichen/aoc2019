{
  "nbformat": 4,
  "nbformat_minor": 0,
  "metadata": {
    "colab": {
      "provenance": [],
      "authorship_tag": "ABX9TyMIiDqrmhBI3t6k9O8OyK0z",
      "include_colab_link": true
    },
    "kernelspec": {
      "name": "python3",
      "display_name": "Python 3"
    },
    "language_info": {
      "name": "python"
    }
  },
  "cells": [
    {
      "cell_type": "markdown",
      "metadata": {
        "id": "view-in-github",
        "colab_type": "text"
      },
      "source": [
        "<a href=\"https://colab.research.google.com/github/elichen/aoc2019/blob/main/Day_22_Slam_Shuffle.ipynb\" target=\"_parent\"><img src=\"https://colab.research.google.com/assets/colab-badge.svg\" alt=\"Open In Colab\"/></a>"
      ]
    },
    {
      "cell_type": "code",
      "execution_count": null,
      "metadata": {
        "id": "Up3YRdr-9WjS"
      },
      "outputs": [],
      "source": [
        "input = \"\"\"deal into new stack\n",
        "cut -2\n",
        "deal with increment 7\n",
        "cut 8\n",
        "cut -4\n",
        "deal with increment 7\n",
        "cut 3\n",
        "deal with increment 9\n",
        "deal with increment 3\n",
        "cut -1\"\"\".split('\\n')"
      ]
    },
    {
      "cell_type": "code",
      "source": [
        "input = [x.rstrip() for x in open(\"input.txt\").readlines()]"
      ],
      "metadata": {
        "id": "jmUIeI-LEWkE"
      },
      "execution_count": null,
      "outputs": []
    },
    {
      "cell_type": "code",
      "source": [
        "ncards = 10007\n",
        "l = list(range(ncards))\n",
        "for line in input:\n",
        "  if line.startswith(\"deal with increment\"):\n",
        "    x = int(line.split()[-1])\n",
        "    new_l = l[:]\n",
        "    for i,j in enumerate(range(0,len(l)*x,x)):\n",
        "      new_l[j%len(l)] = l[i]\n",
        "    l = new_l\n",
        "  elif line.startswith(\"deal into new stack\"):\n",
        "    l = l[::-1]\n",
        "  elif line.startswith(\"cut\"):\n",
        "    x = int(line.split()[-1])\n",
        "    l = l[x:]+l[:x]\n",
        "print(l.index(2019))"
      ],
      "metadata": {
        "colab": {
          "base_uri": "https://localhost:8080/"
        },
        "id": "12doXAuh9xzn",
        "outputId": "39cdb21a-3f54-4d6e-b664-18020c2449e8"
      },
      "execution_count": null,
      "outputs": [
        {
          "output_type": "stream",
          "name": "stdout",
          "text": [
            "6289\n"
          ]
        }
      ]
    },
    {
      "cell_type": "code",
      "source": [
        "ncards = 119315717514047\n",
        "kcard = 2020\n",
        "ki = kcard\n",
        "for i in range(1,11):\n",
        "  incs = 0\n",
        "  flip = 1\n",
        "  rots = 0\n",
        "  for line in input:\n",
        "    if line.startswith(\"deal with increment\"):\n",
        "      x = int(line.split()[-1])\n",
        "      ki = (ki*x)%ncards\n",
        "      incs += x\n",
        "    elif line.startswith(\"deal into new stack\"):\n",
        "      ki = ncards-ki-1\n",
        "      # flip *= -1\n",
        "    elif line.startswith(\"cut\"):\n",
        "      x = int(line.split()[-1])\n",
        "      ki = ((ki+ncards)-x)%ncards\n",
        "      rots += x*flip\n",
        "  print(ki)"
      ],
      "metadata": {
        "colab": {
          "base_uri": "https://localhost:8080/"
        },
        "id": "ZB3PDLxIDHwQ",
        "outputId": "fdc9a913-7f17-4fe7-d534-ff72bd5b6d4b"
      },
      "execution_count": null,
      "outputs": [
        {
          "output_type": "stream",
          "name": "stdout",
          "text": [
            "102290983454279\n",
            "32608454886586\n",
            "51351135815222\n",
            "77545187017347\n",
            "50217892426707\n",
            "115649749364328\n",
            "79671659268942\n",
            "1348410236673\n",
            "558064621769\n",
            "43045254300305\n"
          ]
        }
      ]
    },
    {
      "cell_type": "code",
      "source": [
        "import random, time\n",
        "\n",
        "class LcgRandom(random.Random):\n",
        "\n",
        "\tdef __new__(cls, *args, **kwargs):  # Magic because the superclass doesn't cooperate\n",
        "\t\treturn random.Random.__new__(cls, random.random())\n",
        "\n",
        "\n",
        "\tdef __init__(self, a: int, b: int, m: int, seed: int):\n",
        "\t\tassert isinstance(a, int) and a > 0\n",
        "\t\tassert isinstance(b, int) and b >= 0\n",
        "\t\tassert isinstance(m, int) and m > 0\n",
        "\t\tassert isinstance(seed, int) and 0 <= seed < m\n",
        "\n",
        "\t\tself.a = a     # Multiplier\n",
        "\t\tself.ainv = pow(a, -1, m)\n",
        "\t\tself.b = b     # Increment\n",
        "\t\tself.m = m     # Modulus\n",
        "\t\tself.x = seed  # State\n",
        "\n",
        "\n",
        "\t# Returns the raw state, with 0 <= x < m. To get a pseudorandom number\n",
        "\t# with a certain distribution, the value needs to be further processed.\n",
        "\tdef get_state(self) -> int:\n",
        "\t\treturn self.x\n",
        "\n",
        "\n",
        "\t# Advances the state by one iteration.\n",
        "\tdef next(self) -> None:\n",
        "\t\tself.x = (self.x * self.a + self.b) % self.m\n",
        "\n",
        "\n",
        "\t# Rewinds the state by one iteration.\n",
        "\tdef previous(self) -> None:\n",
        "\t\t# The intermediate result after subtracting 'b' may be\n",
        "\t\t# negative, but the modular arithmetic is correct\n",
        "\t\tself.x = (self.x - self.b) * self.ainv % self.m\n",
        "\n",
        "\n",
        "\t# Advances/rewinds the state by the given number of iterations.\n",
        "\tdef skip(self, n: int) -> None:\n",
        "\t\ta: int\n",
        "\t\tb: int\n",
        "\t\tif n >= 0:\n",
        "\t\t\ta = self.a\n",
        "\t\t\tb = self.b\n",
        "\t\telse:\n",
        "\t\t\ta = self.ainv\n",
        "\t\t\tb = -self.ainv * self.b\n",
        "\t\t\tn = -n\n",
        "\t\ta1: int = a - 1\n",
        "\t\tma: int = a1 * self.m\n",
        "\t\ty: int = (pow(a, n, ma) - 1) // a1 * b\n",
        "\t\tz: int = pow(a, n, self.m) * self.x\n",
        "\t\tself.x = (y + z) % self.m\n",
        "\n",
        "\n",
        "\t# Quite inefficient, but accommodates arbitrarily small\n",
        "\t# or big moduli, and moduli that are not powers of 2\n",
        "\tdef randbit(self) -> bool:\n",
        "\t\tself.next()\n",
        "\t\treturn self.x >= (self.m >> 1)\n",
        "\n",
        "\n",
        "\t# Implements a method in class random.Random.\n",
        "\tdef getrandbits(self, k: int) -> int:\n",
        "\t\tresult: int = 0\n",
        "\t\tfor _ in range(k):\n",
        "\t\t\tresult = (result << 1) | self.randbit()\n",
        "\t\treturn result\n",
        "\n",
        "\n",
        "\t# Implements a method in class random.Random.\n",
        "\tdef random(self) -> float:\n",
        "\t\treturn self.getrandbits(52) / (1 << 52)"
      ],
      "metadata": {
        "id": "4Cr0OfbEpIC-"
      },
      "execution_count": null,
      "outputs": []
    },
    {
      "cell_type": "code",
      "source": [
        "a = 26406704015898\n",
        "b = 94874600119328\n",
        "m = 119315717514047\n",
        "seed = 2020  # Assuming an initial value, can be changed as needed\n",
        "lcg = LcgRandom(a,b,m,seed)\n",
        "lcg.skip(-101741582076661)\n",
        "lcg.x"
      ],
      "metadata": {
        "id": "pH-RFO1LEzbi"
      },
      "execution_count": null,
      "outputs": []
    }
  ]
}