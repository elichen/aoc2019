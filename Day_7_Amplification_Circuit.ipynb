{
  "nbformat": 4,
  "nbformat_minor": 0,
  "metadata": {
    "colab": {
      "provenance": [],
      "authorship_tag": "ABX9TyNd02IsKwuWEsf8KCeSmy4k",
      "include_colab_link": true
    },
    "kernelspec": {
      "name": "python3",
      "display_name": "Python 3"
    },
    "language_info": {
      "name": "python"
    }
  },
  "cells": [
    {
      "cell_type": "markdown",
      "metadata": {
        "id": "view-in-github",
        "colab_type": "text"
      },
      "source": [
        "<a href=\"https://colab.research.google.com/github/elichen/aoc2019/blob/main/Day_7_Amplification_Circuit.ipynb\" target=\"_parent\"><img src=\"https://colab.research.google.com/assets/colab-badge.svg\" alt=\"Open In Colab\"/></a>"
      ]
    },
    {
      "cell_type": "code",
      "execution_count": null,
      "metadata": {
        "id": "ZgEVmoS_VwZc"
      },
      "outputs": [],
      "source": [
        "line = \"3,31,3,32,1002,32,10,32,1001,31,-2,31,1007,31,0,33,1002,33,7,33,1,33,31,31,1,32,31,31,4,31,99,0,0,0\"\n",
        "line = \"3,8,1001,8,10,8,105,1,0,0,21,46,63,76,97,118,199,280,361,442,99999,3,9,102,4,9,9,101,2,9,9,1002,9,5,9,101,4,9,9,102,2,9,9,4,9,99,3,9,101,5,9,9,102,3,9,9,101,3,9,9,4,9,99,3,9,1001,9,2,9,102,3,9,9,4,9,99,3,9,1002,9,5,9,101,4,9,9,1002,9,3,9,101,2,9,9,4,9,99,3,9,1002,9,5,9,101,3,9,9,1002,9,5,9,1001,9,5,9,4,9,99,3,9,102,2,9,9,4,9,3,9,1002,9,2,9,4,9,3,9,1002,9,2,9,4,9,3,9,1001,9,1,9,4,9,3,9,101,1,9,9,4,9,3,9,1001,9,1,9,4,9,3,9,1002,9,2,9,4,9,3,9,1001,9,2,9,4,9,3,9,102,2,9,9,4,9,3,9,102,2,9,9,4,9,99,3,9,1002,9,2,9,4,9,3,9,101,2,9,9,4,9,3,9,1001,9,1,9,4,9,3,9,101,2,9,9,4,9,3,9,102,2,9,9,4,9,3,9,1002,9,2,9,4,9,3,9,1002,9,2,9,4,9,3,9,101,2,9,9,4,9,3,9,1001,9,1,9,4,9,3,9,102,2,9,9,4,9,99,3,9,102,2,9,9,4,9,3,9,102,2,9,9,4,9,3,9,102,2,9,9,4,9,3,9,1001,9,2,9,4,9,3,9,101,1,9,9,4,9,3,9,101,2,9,9,4,9,3,9,102,2,9,9,4,9,3,9,102,2,9,9,4,9,3,9,1001,9,2,9,4,9,3,9,101,1,9,9,4,9,99,3,9,1002,9,2,9,4,9,3,9,102,2,9,9,4,9,3,9,1001,9,2,9,4,9,3,9,101,1,9,9,4,9,3,9,1001,9,1,9,4,9,3,9,1001,9,2,9,4,9,3,9,102,2,9,9,4,9,3,9,101,1,9,9,4,9,3,9,1001,9,1,9,4,9,3,9,101,2,9,9,4,9,99,3,9,101,1,9,9,4,9,3,9,1002,9,2,9,4,9,3,9,102,2,9,9,4,9,3,9,1002,9,2,9,4,9,3,9,102,2,9,9,4,9,3,9,101,1,9,9,4,9,3,9,101,2,9,9,4,9,3,9,1001,9,2,9,4,9,3,9,102,2,9,9,4,9,3,9,101,2,9,9,4,9,99\""
      ]
    },
    {
      "cell_type": "code",
      "source": [
        "def run(inputs, a):\n",
        "  i = 0\n",
        "  input_i = 0\n",
        "  output = None\n",
        "  while i < len(a):\n",
        "    m3,m2,m1,op = a[i] // 10000, a[i] // 1000 % 10, a[i] // 100 % 10, a[i] % 100\n",
        "    # print(m3,m2,m1,op)\n",
        "    if op == 1:\n",
        "      a1 = a[i+1] if m1 == 1 else a[a[i+1]]\n",
        "      a2 = a[i+2] if m2 == 1 else a[a[i+2]]\n",
        "      a[a[i+3]] = a1 + a2\n",
        "      i += 4\n",
        "    elif op == 2:\n",
        "      a1 = a[i+1] if m1 == 1 else a[a[i+1]]\n",
        "      a2 = a[i+2] if m2 == 1 else a[a[i+2]]\n",
        "      a[a[i+3]] = a1 * a2\n",
        "      i += 4\n",
        "    elif op == 3:\n",
        "      a[a[i+1]] = inputs[input_i]\n",
        "      input_i += 1\n",
        "      i += 2\n",
        "    elif op == 4:\n",
        "      a1 = a[i+1] if m1 == 1 else a[a[i+1]]\n",
        "      output = a1\n",
        "      i += 2\n",
        "    elif op == 5:\n",
        "      a1 = a[i+1] if m1 == 1 else a[a[i+1]]\n",
        "      a2 = a[i+2] if m2 == 1 else a[a[i+2]]\n",
        "      if a1 != 0:\n",
        "        i = a2\n",
        "      else:\n",
        "        i += 3\n",
        "    elif op == 6:\n",
        "      a1 = a[i+1] if m1 == 1 else a[a[i+1]]\n",
        "      a2 = a[i+2] if m2 == 1 else a[a[i+2]]\n",
        "      if a1 == 0:\n",
        "        i = a2\n",
        "      else:\n",
        "        i += 3\n",
        "    elif op == 7:\n",
        "      a1 = a[i+1] if m1 == 1 else a[a[i+1]]\n",
        "      a2 = a[i+2] if m2 == 1 else a[a[i+2]]\n",
        "      a[a[i+3]] = 1 if a1 < a2 else 0\n",
        "      i += 4\n",
        "    elif op == 8:\n",
        "      a1 = a[i+1] if m1 == 1 else a[a[i+1]]\n",
        "      a2 = a[i+2] if m2 == 1 else a[a[i+2]]\n",
        "      a[a[i+3]] = 1 if a1 == a2 else 0\n",
        "      i += 4\n",
        "    elif op == 99:\n",
        "      return output\n",
        "run([1,1], [int(x) for x in line.split(',')])"
      ],
      "metadata": {
        "colab": {
          "base_uri": "https://localhost:8080/"
        },
        "id": "J4CM8tBAx2Tx",
        "outputId": "8dfe53cf-cad2-4018-8acc-02a5d4e745cd"
      },
      "execution_count": null,
      "outputs": [
        {
          "output_type": "execute_result",
          "data": {
            "text/plain": [
              "21"
            ]
          },
          "metadata": {},
          "execution_count": 3
        }
      ]
    },
    {
      "cell_type": "code",
      "source": [
        "from itertools import permutations"
      ],
      "metadata": {
        "id": "oRkedA-U0ifo"
      },
      "execution_count": null,
      "outputs": []
    },
    {
      "cell_type": "code",
      "source": [
        "a = [int(x) for x in line.split(',')]\n",
        "max_output = 0\n",
        "for seq in permutations(range(5)):\n",
        "  prev_output = 0\n",
        "  for p in seq:\n",
        "    output = run([p,prev_output], a)\n",
        "    prev_output = output\n",
        "  if output > max_output: max_output = output\n",
        "max_output"
      ],
      "metadata": {
        "colab": {
          "base_uri": "https://localhost:8080/"
        },
        "id": "cE3RDw6VvcUm",
        "outputId": "641b14f2-b415-47d2-b493-d9bacf1724f7"
      },
      "execution_count": null,
      "outputs": [
        {
          "output_type": "execute_result",
          "data": {
            "text/plain": [
              "914828"
            ]
          },
          "metadata": {},
          "execution_count": 5
        }
      ]
    },
    {
      "cell_type": "code",
      "source": [
        "def run2(input, i, a):\n",
        "  while i < len(a):\n",
        "    m3,m2,m1,op = a[i] // 10000, a[i] // 1000 % 10, a[i] // 100 % 10, a[i] % 100\n",
        "    # print(m3,m2,m1,op)\n",
        "    if op == 1:\n",
        "      a1 = a[i+1] if m1 == 1 else a[a[i+1]]\n",
        "      a2 = a[i+2] if m2 == 1 else a[a[i+2]]\n",
        "      a[a[i+3]] = a1 + a2\n",
        "      i += 4\n",
        "    elif op == 2:\n",
        "      a1 = a[i+1] if m1 == 1 else a[a[i+1]]\n",
        "      a2 = a[i+2] if m2 == 1 else a[a[i+2]]\n",
        "      a[a[i+3]] = a1 * a2\n",
        "      i += 4\n",
        "    elif op == 3:\n",
        "      if input == None:\n",
        "        return None, i\n",
        "      a[a[i+1]] = input\n",
        "      input = None\n",
        "      i += 2\n",
        "    elif op == 4:\n",
        "      a1 = a[i+1] if m1 == 1 else a[a[i+1]]\n",
        "      return a1, i+2\n",
        "    elif op == 5:\n",
        "      a1 = a[i+1] if m1 == 1 else a[a[i+1]]\n",
        "      a2 = a[i+2] if m2 == 1 else a[a[i+2]]\n",
        "      if a1 != 0:\n",
        "        i = a2\n",
        "      else:\n",
        "        i += 3\n",
        "    elif op == 6:\n",
        "      a1 = a[i+1] if m1 == 1 else a[a[i+1]]\n",
        "      a2 = a[i+2] if m2 == 1 else a[a[i+2]]\n",
        "      if a1 == 0:\n",
        "        i = a2\n",
        "      else:\n",
        "        i += 3\n",
        "    elif op == 7:\n",
        "      a1 = a[i+1] if m1 == 1 else a[a[i+1]]\n",
        "      a2 = a[i+2] if m2 == 1 else a[a[i+2]]\n",
        "      a[a[i+3]] = 1 if a1 < a2 else 0\n",
        "      i += 4\n",
        "    elif op == 8:\n",
        "      a1 = a[i+1] if m1 == 1 else a[a[i+1]]\n",
        "      a2 = a[i+2] if m2 == 1 else a[a[i+2]]\n",
        "      a[a[i+3]] = 1 if a1 == a2 else 0\n",
        "      i += 4\n",
        "    elif op == 99:\n",
        "      return None"
      ],
      "metadata": {
        "id": "mjYh3RxySvsN"
      },
      "execution_count": null,
      "outputs": []
    },
    {
      "cell_type": "code",
      "source": [
        "line = \"3,26,1001,26,-4,26,3,27,1002,27,2,27,1,27,26,27,4,27,1001,28,-1,28,1005,28,6,99,0,0,5\"\n",
        "seq = [9,8,7,6,5]\n",
        "line = \"3,52,1001,52,-5,52,3,53,1,52,56,54,1007,54,5,55,1005,55,26,1001,54,-5,54,1105,1,12,1,53,54,53,1008,54,0,55,1001,55,1,55,2,53,55,53,4,53,1001,56,-1,56,1005,56,6,99,0,0,0,0,10\"\n",
        "seq = [9,7,8,5,6]"
      ],
      "metadata": {
        "id": "Zo5vdpu4bcq6"
      },
      "execution_count": null,
      "outputs": []
    },
    {
      "cell_type": "code",
      "source": [
        "from copy import deepcopy\n",
        "\n",
        "original_list = [int(x) for x in line.split(',')]\n",
        "a = [deepcopy(original_list) for _ in range(5)]\n",
        "\n",
        "i_s = [0] * 5\n",
        "for i, input in enumerate(seq):\n",
        "  output = run2(input, i_s[i], a[i])\n",
        "  _, i_s[i] = output\n",
        "exit = False\n",
        "prev_output = 0\n",
        "while not exit:\n",
        "  for i in range(5):\n",
        "    output = run2(prev_output, i_s[i], a[i])\n",
        "    if output == None:\n",
        "      exit = True\n",
        "    else:\n",
        "      prev_output, i_s[i] = output\n",
        "prev_output"
      ],
      "metadata": {
        "colab": {
          "base_uri": "https://localhost:8080/"
        },
        "id": "BsdXrAXvV4ZA",
        "outputId": "e8fb2de6-e2ed-48a5-c02f-2b4f10e7be20"
      },
      "execution_count": null,
      "outputs": [
        {
          "output_type": "execute_result",
          "data": {
            "text/plain": [
              "18216"
            ]
          },
          "metadata": {},
          "execution_count": 19
        }
      ]
    },
    {
      "cell_type": "code",
      "source": [
        "line = \"3,8,1001,8,10,8,105,1,0,0,21,46,63,76,97,118,199,280,361,442,99999,3,9,102,4,9,9,101,2,9,9,1002,9,5,9,101,4,9,9,102,2,9,9,4,9,99,3,9,101,5,9,9,102,3,9,9,101,3,9,9,4,9,99,3,9,1001,9,2,9,102,3,9,9,4,9,99,3,9,1002,9,5,9,101,4,9,9,1002,9,3,9,101,2,9,9,4,9,99,3,9,1002,9,5,9,101,3,9,9,1002,9,5,9,1001,9,5,9,4,9,99,3,9,102,2,9,9,4,9,3,9,1002,9,2,9,4,9,3,9,1002,9,2,9,4,9,3,9,1001,9,1,9,4,9,3,9,101,1,9,9,4,9,3,9,1001,9,1,9,4,9,3,9,1002,9,2,9,4,9,3,9,1001,9,2,9,4,9,3,9,102,2,9,9,4,9,3,9,102,2,9,9,4,9,99,3,9,1002,9,2,9,4,9,3,9,101,2,9,9,4,9,3,9,1001,9,1,9,4,9,3,9,101,2,9,9,4,9,3,9,102,2,9,9,4,9,3,9,1002,9,2,9,4,9,3,9,1002,9,2,9,4,9,3,9,101,2,9,9,4,9,3,9,1001,9,1,9,4,9,3,9,102,2,9,9,4,9,99,3,9,102,2,9,9,4,9,3,9,102,2,9,9,4,9,3,9,102,2,9,9,4,9,3,9,1001,9,2,9,4,9,3,9,101,1,9,9,4,9,3,9,101,2,9,9,4,9,3,9,102,2,9,9,4,9,3,9,102,2,9,9,4,9,3,9,1001,9,2,9,4,9,3,9,101,1,9,9,4,9,99,3,9,1002,9,2,9,4,9,3,9,102,2,9,9,4,9,3,9,1001,9,2,9,4,9,3,9,101,1,9,9,4,9,3,9,1001,9,1,9,4,9,3,9,1001,9,2,9,4,9,3,9,102,2,9,9,4,9,3,9,101,1,9,9,4,9,3,9,1001,9,1,9,4,9,3,9,101,2,9,9,4,9,99,3,9,101,1,9,9,4,9,3,9,1002,9,2,9,4,9,3,9,102,2,9,9,4,9,3,9,1002,9,2,9,4,9,3,9,102,2,9,9,4,9,3,9,101,1,9,9,4,9,3,9,101,2,9,9,4,9,3,9,1001,9,2,9,4,9,3,9,102,2,9,9,4,9,3,9,101,2,9,9,4,9,99\""
      ],
      "metadata": {
        "id": "QoQtvfE3sEqQ"
      },
      "execution_count": null,
      "outputs": []
    },
    {
      "cell_type": "code",
      "source": [
        "original_list = [int(x) for x in line.split(',')]\n",
        "max_output = 0\n",
        "for seq in permutations(range(5,10)):\n",
        "  a = [deepcopy(original_list) for _ in range(5)]\n",
        "  i_s = [0] * 5\n",
        "  for i, input in enumerate(seq):\n",
        "    output = run2(input, i_s[i], a[i])\n",
        "    _, i_s[i] = output\n",
        "  exit = False\n",
        "  prev_output = 0\n",
        "  while not exit:\n",
        "    for i in range(5):\n",
        "      output = run2(prev_output, i_s[i], a[i])\n",
        "      if output == None:\n",
        "        exit = True\n",
        "      else:\n",
        "        prev_output, i_s[i] = output\n",
        "  if prev_output > max_output: max_output = prev_output\n",
        "max_output"
      ],
      "metadata": {
        "colab": {
          "base_uri": "https://localhost:8080/"
        },
        "id": "0Iwo9Z9qq_3A",
        "outputId": "ed28fd16-eb2c-4a93-ae95-c7e04168f512"
      },
      "execution_count": null,
      "outputs": [
        {
          "output_type": "execute_result",
          "data": {
            "text/plain": [
              "17956613"
            ]
          },
          "metadata": {},
          "execution_count": 25
        }
      ]
    }
  ]
}