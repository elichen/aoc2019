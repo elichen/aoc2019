{
  "nbformat": 4,
  "nbformat_minor": 0,
  "metadata": {
    "colab": {
      "provenance": [],
      "authorship_tag": "ABX9TyM2MpSMqsceXhO3BEIeSuyz",
      "include_colab_link": true
    },
    "kernelspec": {
      "name": "python3",
      "display_name": "Python 3"
    },
    "language_info": {
      "name": "python"
    }
  },
  "cells": [
    {
      "cell_type": "markdown",
      "metadata": {
        "id": "view-in-github",
        "colab_type": "text"
      },
      "source": [
        "<a href=\"https://colab.research.google.com/github/elichen/aoc2019/blob/main/Day_10_Monitoring_Station.ipynb\" target=\"_parent\"><img src=\"https://colab.research.google.com/assets/colab-badge.svg\" alt=\"Open In Colab\"/></a>"
      ]
    },
    {
      "cell_type": "code",
      "execution_count": null,
      "metadata": {
        "id": "CyG2Jtquuhyx"
      },
      "outputs": [],
      "source": [
        "input = \"\"\"#.....#...#.........###.#........#..\n",
        "....#......###..#.#.###....#......##\n",
        "......#..###.......#.#.#.#..#.......\n",
        "......#......#.#....#.##....##.#.#.#\n",
        "...###.#.#.......#..#...............\n",
        "....##...#..#....##....#...#.#......\n",
        "..##...#.###.....##....#.#..##.##...\n",
        "..##....#.#......#.#...#.#...#.#....\n",
        ".#.##..##......##..#...#.....##...##\n",
        ".......##.....#.....##..#..#..#.....\n",
        "..#..#...#......#..##...#.#...#...##\n",
        "......##.##.#.#.###....#.#..#......#\n",
        "#..#.#...#.....#...#...####.#..#...#\n",
        "...##...##.#..#.....####.#....##....\n",
        ".#....###.#...#....#..#......#......\n",
        ".##.#.#...#....##......#.....##...##\n",
        ".....#....###...#.....#....#........\n",
        "...#...#....##..#.#......#.#.#......\n",
        ".#..###............#.#..#...####.##.\n",
        ".#.###..#.....#......#..###....##..#\n",
        "#......#.#.#.#.#.#...#.#.#....##....\n",
        ".#.....#.....#...##.#......#.#...#..\n",
        "...##..###.........##.........#.....\n",
        "..#.#..#.#...#.....#.....#...###.#..\n",
        ".#..........#.......#....#..........\n",
        "...##..#..#...#..#...#......####....\n",
        ".#..#...##.##..##..###......#.......\n",
        ".##.....#.......#..#...#..#.......#.\n",
        "#.#.#..#..##..#..............#....##\n",
        "..#....##......##.....#...#...##....\n",
        ".##..##..#.#..#.................####\n",
        "##.......#..#.#..##..#...#..........\n",
        "#..##...#.##.#.#.........#..#..#....\n",
        ".....#...#...#.#......#....#........\n",
        "....#......###.#..#......##.....#..#\n",
        "#..#...##.........#.....##.....#....\"\"\".split('\\n')\n",
        "# input = \"\"\".#..##.###...#######\n",
        "# ##.############..##.\n",
        "# .#.######.########.#\n",
        "# .###.#######.####.#.\n",
        "# #####.##.#.##.###.##\n",
        "# ..#####..#.#########\n",
        "# ####################\n",
        "# #.####....###.#.#.##\n",
        "# ##.#################\n",
        "# #####.##.###..####..\n",
        "# ..######..##.#######\n",
        "# ####.##.####...##..#\n",
        "# .#####..#.######.###\n",
        "# ##...#.##########...\n",
        "# #.##########.#######\n",
        "# .####.#.###.###.#.##\n",
        "# ....##.##.###..#####\n",
        "# .#.#.###########.###\n",
        "# #.#.#.#####.####.###\n",
        "# ###.##.####.##.#..##\"\"\".split('\\n')"
      ]
    },
    {
      "cell_type": "code",
      "source": [
        "import numpy as np\n",
        "\n",
        "def string_to_matrix(input):\n",
        "    matrix = [[1 if char == '#' else 0 for char in row] for row in input]\n",
        "    return np.array(matrix)\n",
        "\n",
        "m = string_to_matrix(input)"
      ],
      "metadata": {
        "id": "Xr_60NH0x1EM"
      },
      "execution_count": null,
      "outputs": []
    },
    {
      "cell_type": "code",
      "source": [
        "import math\n",
        "import numpy as np\n",
        "\n",
        "def check_slope(matrix, point_a, point_b):\n",
        "    gcd = math.gcd(abs(point_b[0] - point_a[0]), abs(point_b[1] - point_a[1]))\n",
        "    y1, x1 = point_a\n",
        "    y2, x2 = point_b\n",
        "    delta_x = x2 - x1\n",
        "    delta_y = y2 - y1\n",
        "\n",
        "    a_divided = delta_x // gcd\n",
        "    b_divided = delta_y // gcd\n",
        "\n",
        "    cursor_y, cursor_x = y1, x1\n",
        "\n",
        "    for i in range(1, gcd):\n",
        "        cursor_x += a_divided\n",
        "        cursor_y += b_divided\n",
        "\n",
        "        if 0 <= cursor_x < matrix.shape[1] and 0 <= cursor_y < matrix.shape[0]:\n",
        "            if matrix[cursor_y, cursor_x] == 1:\n",
        "                return True  # Found a point with value 1\n",
        "\n",
        "    return False  # No such point found"
      ],
      "metadata": {
        "id": "YtbOdJPljopa"
      },
      "execution_count": null,
      "outputs": []
    },
    {
      "cell_type": "code",
      "source": [
        "import numpy as np\n",
        "import math\n",
        "\n",
        "def find_point_with_highest_total(matrix):\n",
        "    points_with_ones = np.argwhere(matrix == 1)\n",
        "    counter = {}\n",
        "\n",
        "    for i, point_a in enumerate(points_with_ones):\n",
        "        counter[tuple(point_a)] = 0\n",
        "        for j, point_b in enumerate(points_with_ones):\n",
        "            if i == j:\n",
        "                continue\n",
        "            if not check_slope(matrix, tuple(point_a), tuple(point_b)):\n",
        "                counter[tuple(point_a)] += 1\n",
        "\n",
        "    highest_point = max(counter, key=counter.get)\n",
        "    return highest_point, counter[highest_point]\n",
        "\n",
        "(best_y, best_x), best_score = find_point_with_highest_total(m)\n",
        "best_score, best_x, best_y"
      ],
      "metadata": {
        "colab": {
          "base_uri": "https://localhost:8080/"
        },
        "id": "TbfJjrRqyWyD",
        "outputId": "131df210-b04f-4b8a-ce1f-df50c15c6d1d"
      },
      "execution_count": null,
      "outputs": [
        {
          "output_type": "execute_result",
          "data": {
            "text/plain": [
              "(303, 26, 29)"
            ]
          },
          "metadata": {},
          "execution_count": 193
        }
      ]
    },
    {
      "cell_type": "code",
      "source": [
        "def calculate_angle_and_distance(reference_point, target_point):\n",
        "    dx = target_point[1] - reference_point[1]  # x-coordinate difference\n",
        "    dy = target_point[0] - reference_point[0]  # y-coordinate difference\n",
        "    angle = math.atan2(dy, dx)\n",
        "    angle = (angle + math.pi / 2) % (2 * math.pi)  # Shift by +pi/2 and normalize to [0, 2π]\n",
        "    distance = math.sqrt(dx ** 2 + dy ** 2)\n",
        "    return angle, distance\n",
        "\n",
        "def map_points_by_angle(matrix, point):\n",
        "    angle_to_points = defaultdict(list)\n",
        "    points_with_ones = np.argwhere(matrix == 1)\n",
        "\n",
        "    for target_point in points_with_ones:\n",
        "        if tuple(target_point) == point:\n",
        "            continue\n",
        "        angle, distance = calculate_angle_and_distance(point, tuple(target_point))\n",
        "        angle_to_points[angle].append(((target_point[1], target_point[0]), distance))\n",
        "\n",
        "    for angle in angle_to_points.keys():\n",
        "        angle_to_points[angle] = sort_points_by_distance(angle_to_points[angle])\n",
        "\n",
        "    return angle_to_points\n",
        "\n",
        "result = map_points_by_angle(m, (best_y, best_x))"
      ],
      "metadata": {
        "id": "LUm_NwVgyLYC"
      },
      "execution_count": null,
      "outputs": []
    },
    {
      "cell_type": "code",
      "source": [
        "sorted_keys = sorted(result.keys())\n",
        "output = []\n",
        "while len(result) > 0:\n",
        "  for k in sorted_keys:\n",
        "    if len(result) == 0: break\n",
        "    if k not in result: continue\n",
        "    v = result[k]\n",
        "    output.append(v.pop(0))\n",
        "    if len(v) == 0:\n",
        "      del result[k]\n",
        "    else:\n",
        "      result[k] = v"
      ],
      "metadata": {
        "id": "tT_0Be262X69"
      },
      "execution_count": null,
      "outputs": []
    },
    {
      "cell_type": "code",
      "source": [
        "output[199]"
      ],
      "metadata": {
        "colab": {
          "base_uri": "https://localhost:8080/"
        },
        "id": "c-a3Twt6843M",
        "outputId": "f2c290a1-60bb-4c4a-db1f-b99fa67280e6"
      },
      "execution_count": null,
      "outputs": [
        {
          "output_type": "execute_result",
          "data": {
            "text/plain": [
              "(4, 8)"
            ]
          },
          "metadata": {},
          "execution_count": 196
        }
      ]
    },
    {
      "cell_type": "code",
      "source": [
        "output[199][0]*100 + output[199][1]"
      ],
      "metadata": {
        "colab": {
          "base_uri": "https://localhost:8080/"
        },
        "id": "LkRKhMCY8_Xk",
        "outputId": "a8bd6c3e-97e5-45a9-ce15-f95fa8c5f51b"
      },
      "execution_count": null,
      "outputs": [
        {
          "output_type": "execute_result",
          "data": {
            "text/plain": [
              "408"
            ]
          },
          "metadata": {},
          "execution_count": 197
        }
      ]
    }
  ]
}