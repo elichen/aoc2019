{
  "nbformat": 4,
  "nbformat_minor": 0,
  "metadata": {
    "colab": {
      "provenance": [],
      "authorship_tag": "ABX9TyPay3KFj8RWGEdFQy/beNPf",
      "include_colab_link": true
    },
    "kernelspec": {
      "name": "python3",
      "display_name": "Python 3"
    },
    "language_info": {
      "name": "python"
    },
    "widgets": {
      "application/vnd.jupyter.widget-state+json": {
        "13fc1633ae3344358e3e8597cf294980": {
          "model_module": "@jupyter-widgets/controls",
          "model_name": "HBoxModel",
          "model_module_version": "1.5.0",
          "state": {
            "_dom_classes": [],
            "_model_module": "@jupyter-widgets/controls",
            "_model_module_version": "1.5.0",
            "_model_name": "HBoxModel",
            "_view_count": null,
            "_view_module": "@jupyter-widgets/controls",
            "_view_module_version": "1.5.0",
            "_view_name": "HBoxView",
            "box_style": "",
            "children": [
              "IPY_MODEL_f4c31a4806bb4de49e8b13252c5fb6bd",
              "IPY_MODEL_50ee60239552490aba6ef84202ee1f1b",
              "IPY_MODEL_80082b97f6f94909a6e0fe6bd15df8fd"
            ],
            "layout": "IPY_MODEL_893854aa683a4c73a1fddf6ea7805de5"
          }
        },
        "f4c31a4806bb4de49e8b13252c5fb6bd": {
          "model_module": "@jupyter-widgets/controls",
          "model_name": "HTMLModel",
          "model_module_version": "1.5.0",
          "state": {
            "_dom_classes": [],
            "_model_module": "@jupyter-widgets/controls",
            "_model_module_version": "1.5.0",
            "_model_name": "HTMLModel",
            "_view_count": null,
            "_view_module": "@jupyter-widgets/controls",
            "_view_module_version": "1.5.0",
            "_view_name": "HTMLView",
            "description": "",
            "description_tooltip": null,
            "layout": "IPY_MODEL_27c2cf80bd474ade83e92c27dd44144c",
            "placeholder": "​",
            "style": "IPY_MODEL_ba3e55f3c6b94377b6283a0f82dde9a9",
            "value": "  0%"
          }
        },
        "50ee60239552490aba6ef84202ee1f1b": {
          "model_module": "@jupyter-widgets/controls",
          "model_name": "FloatProgressModel",
          "model_module_version": "1.5.0",
          "state": {
            "_dom_classes": [],
            "_model_module": "@jupyter-widgets/controls",
            "_model_module_version": "1.5.0",
            "_model_name": "FloatProgressModel",
            "_view_count": null,
            "_view_module": "@jupyter-widgets/controls",
            "_view_module_version": "1.5.0",
            "_view_name": "ProgressView",
            "bar_style": "danger",
            "description": "",
            "description_tooltip": null,
            "layout": "IPY_MODEL_d5330274f65e4911beb47494758d19c5",
            "max": 1000000000000,
            "min": 0,
            "orientation": "horizontal",
            "style": "IPY_MODEL_624feb729b5742ff9371b9456829b80d",
            "value": 231613
          }
        },
        "80082b97f6f94909a6e0fe6bd15df8fd": {
          "model_module": "@jupyter-widgets/controls",
          "model_name": "HTMLModel",
          "model_module_version": "1.5.0",
          "state": {
            "_dom_classes": [],
            "_model_module": "@jupyter-widgets/controls",
            "_model_module_version": "1.5.0",
            "_model_name": "HTMLModel",
            "_view_count": null,
            "_view_module": "@jupyter-widgets/controls",
            "_view_module_version": "1.5.0",
            "_view_name": "HTMLView",
            "description": "",
            "description_tooltip": null,
            "layout": "IPY_MODEL_ca9398ed1dd44934ab41e549a233731b",
            "placeholder": "​",
            "style": "IPY_MODEL_080d65e6ed3c43f181cda236be62dff4",
            "value": " 231613/1000000000000 [00:25&lt;24713:39:55, 11239.84it/s]"
          }
        },
        "893854aa683a4c73a1fddf6ea7805de5": {
          "model_module": "@jupyter-widgets/base",
          "model_name": "LayoutModel",
          "model_module_version": "1.2.0",
          "state": {
            "_model_module": "@jupyter-widgets/base",
            "_model_module_version": "1.2.0",
            "_model_name": "LayoutModel",
            "_view_count": null,
            "_view_module": "@jupyter-widgets/base",
            "_view_module_version": "1.2.0",
            "_view_name": "LayoutView",
            "align_content": null,
            "align_items": null,
            "align_self": null,
            "border": null,
            "bottom": null,
            "display": null,
            "flex": null,
            "flex_flow": null,
            "grid_area": null,
            "grid_auto_columns": null,
            "grid_auto_flow": null,
            "grid_auto_rows": null,
            "grid_column": null,
            "grid_gap": null,
            "grid_row": null,
            "grid_template_areas": null,
            "grid_template_columns": null,
            "grid_template_rows": null,
            "height": null,
            "justify_content": null,
            "justify_items": null,
            "left": null,
            "margin": null,
            "max_height": null,
            "max_width": null,
            "min_height": null,
            "min_width": null,
            "object_fit": null,
            "object_position": null,
            "order": null,
            "overflow": null,
            "overflow_x": null,
            "overflow_y": null,
            "padding": null,
            "right": null,
            "top": null,
            "visibility": null,
            "width": null
          }
        },
        "27c2cf80bd474ade83e92c27dd44144c": {
          "model_module": "@jupyter-widgets/base",
          "model_name": "LayoutModel",
          "model_module_version": "1.2.0",
          "state": {
            "_model_module": "@jupyter-widgets/base",
            "_model_module_version": "1.2.0",
            "_model_name": "LayoutModel",
            "_view_count": null,
            "_view_module": "@jupyter-widgets/base",
            "_view_module_version": "1.2.0",
            "_view_name": "LayoutView",
            "align_content": null,
            "align_items": null,
            "align_self": null,
            "border": null,
            "bottom": null,
            "display": null,
            "flex": null,
            "flex_flow": null,
            "grid_area": null,
            "grid_auto_columns": null,
            "grid_auto_flow": null,
            "grid_auto_rows": null,
            "grid_column": null,
            "grid_gap": null,
            "grid_row": null,
            "grid_template_areas": null,
            "grid_template_columns": null,
            "grid_template_rows": null,
            "height": null,
            "justify_content": null,
            "justify_items": null,
            "left": null,
            "margin": null,
            "max_height": null,
            "max_width": null,
            "min_height": null,
            "min_width": null,
            "object_fit": null,
            "object_position": null,
            "order": null,
            "overflow": null,
            "overflow_x": null,
            "overflow_y": null,
            "padding": null,
            "right": null,
            "top": null,
            "visibility": null,
            "width": null
          }
        },
        "ba3e55f3c6b94377b6283a0f82dde9a9": {
          "model_module": "@jupyter-widgets/controls",
          "model_name": "DescriptionStyleModel",
          "model_module_version": "1.5.0",
          "state": {
            "_model_module": "@jupyter-widgets/controls",
            "_model_module_version": "1.5.0",
            "_model_name": "DescriptionStyleModel",
            "_view_count": null,
            "_view_module": "@jupyter-widgets/base",
            "_view_module_version": "1.2.0",
            "_view_name": "StyleView",
            "description_width": ""
          }
        },
        "d5330274f65e4911beb47494758d19c5": {
          "model_module": "@jupyter-widgets/base",
          "model_name": "LayoutModel",
          "model_module_version": "1.2.0",
          "state": {
            "_model_module": "@jupyter-widgets/base",
            "_model_module_version": "1.2.0",
            "_model_name": "LayoutModel",
            "_view_count": null,
            "_view_module": "@jupyter-widgets/base",
            "_view_module_version": "1.2.0",
            "_view_name": "LayoutView",
            "align_content": null,
            "align_items": null,
            "align_self": null,
            "border": null,
            "bottom": null,
            "display": null,
            "flex": null,
            "flex_flow": null,
            "grid_area": null,
            "grid_auto_columns": null,
            "grid_auto_flow": null,
            "grid_auto_rows": null,
            "grid_column": null,
            "grid_gap": null,
            "grid_row": null,
            "grid_template_areas": null,
            "grid_template_columns": null,
            "grid_template_rows": null,
            "height": null,
            "justify_content": null,
            "justify_items": null,
            "left": null,
            "margin": null,
            "max_height": null,
            "max_width": null,
            "min_height": null,
            "min_width": null,
            "object_fit": null,
            "object_position": null,
            "order": null,
            "overflow": null,
            "overflow_x": null,
            "overflow_y": null,
            "padding": null,
            "right": null,
            "top": null,
            "visibility": null,
            "width": null
          }
        },
        "624feb729b5742ff9371b9456829b80d": {
          "model_module": "@jupyter-widgets/controls",
          "model_name": "ProgressStyleModel",
          "model_module_version": "1.5.0",
          "state": {
            "_model_module": "@jupyter-widgets/controls",
            "_model_module_version": "1.5.0",
            "_model_name": "ProgressStyleModel",
            "_view_count": null,
            "_view_module": "@jupyter-widgets/base",
            "_view_module_version": "1.2.0",
            "_view_name": "StyleView",
            "bar_color": null,
            "description_width": ""
          }
        },
        "ca9398ed1dd44934ab41e549a233731b": {
          "model_module": "@jupyter-widgets/base",
          "model_name": "LayoutModel",
          "model_module_version": "1.2.0",
          "state": {
            "_model_module": "@jupyter-widgets/base",
            "_model_module_version": "1.2.0",
            "_model_name": "LayoutModel",
            "_view_count": null,
            "_view_module": "@jupyter-widgets/base",
            "_view_module_version": "1.2.0",
            "_view_name": "LayoutView",
            "align_content": null,
            "align_items": null,
            "align_self": null,
            "border": null,
            "bottom": null,
            "display": null,
            "flex": null,
            "flex_flow": null,
            "grid_area": null,
            "grid_auto_columns": null,
            "grid_auto_flow": null,
            "grid_auto_rows": null,
            "grid_column": null,
            "grid_gap": null,
            "grid_row": null,
            "grid_template_areas": null,
            "grid_template_columns": null,
            "grid_template_rows": null,
            "height": null,
            "justify_content": null,
            "justify_items": null,
            "left": null,
            "margin": null,
            "max_height": null,
            "max_width": null,
            "min_height": null,
            "min_width": null,
            "object_fit": null,
            "object_position": null,
            "order": null,
            "overflow": null,
            "overflow_x": null,
            "overflow_y": null,
            "padding": null,
            "right": null,
            "top": null,
            "visibility": null,
            "width": null
          }
        },
        "080d65e6ed3c43f181cda236be62dff4": {
          "model_module": "@jupyter-widgets/controls",
          "model_name": "DescriptionStyleModel",
          "model_module_version": "1.5.0",
          "state": {
            "_model_module": "@jupyter-widgets/controls",
            "_model_module_version": "1.5.0",
            "_model_name": "DescriptionStyleModel",
            "_view_count": null,
            "_view_module": "@jupyter-widgets/base",
            "_view_module_version": "1.2.0",
            "_view_name": "StyleView",
            "description_width": ""
          }
        }
      }
    }
  },
  "cells": [
    {
      "cell_type": "markdown",
      "metadata": {
        "id": "view-in-github",
        "colab_type": "text"
      },
      "source": [
        "<a href=\"https://colab.research.google.com/github/elichen/aoc2019/blob/main/Day_12_The_N_Body_Problem.ipynb\" target=\"_parent\"><img src=\"https://colab.research.google.com/assets/colab-badge.svg\" alt=\"Open In Colab\"/></a>"
      ]
    },
    {
      "cell_type": "code",
      "execution_count": null,
      "metadata": {
        "id": "fSKQAjCKlX7H"
      },
      "outputs": [],
      "source": [
        "input = '''<x=-9, y=10, z=-1>\n",
        "<x=-14, y=-8, z=14>\n",
        "<x=1, y=5, z=6>\n",
        "<x=-19, y=7, z=8>'''.split('\\n')\n",
        "# input = '''<x=-1, y=0, z=2>\n",
        "# <x=2, y=-10, z=-7>\n",
        "# <x=4, y=-8, z=8>\n",
        "# <x=3, y=5, z=-1>'''.split('\\n')\n",
        "# input = '''<x=-8, y=-10, z=0>\n",
        "# <x=5, y=5, z=10>\n",
        "# <x=2, y=-7, z=3>\n",
        "# <x=9, y=-8, z=-3>'''.split('\\n')"
      ]
    },
    {
      "cell_type": "code",
      "source": [
        "import re\n",
        "\n",
        "def parse_coordinates(lines):\n",
        "    coordinates = []\n",
        "    for line in lines:\n",
        "        match = re.search(r'x=(-?\\d+), y=(-?\\d+), z=(-?\\d+)', line)\n",
        "        if match:\n",
        "            x, y, z = map(int, match.groups())\n",
        "            coordinates.append([x, y, z])\n",
        "    return coordinates"
      ],
      "metadata": {
        "id": "ITZwiOYileQd"
      },
      "execution_count": null,
      "outputs": []
    },
    {
      "cell_type": "code",
      "source": [
        "ms = parse_coordinates(input)\n",
        "vs = [[0,0,0] for _ in range(4)]\n",
        "for _ in range(1000):\n",
        "  # print(ms,vs)\n",
        "  for i in range(4):\n",
        "    for j in range(4):\n",
        "      if i == j: continue\n",
        "      for x in range(3):\n",
        "        if ms[i][x] < ms[j][x]: vs[i][x] += 1\n",
        "        if ms[i][x] > ms[j][x]: vs[i][x] -= 1\n",
        "  for i in range(4):\n",
        "    for x in range(3):\n",
        "      ms[i][x] += vs[i][x]"
      ],
      "metadata": {
        "id": "bCBWwrd0mEX4"
      },
      "execution_count": null,
      "outputs": []
    },
    {
      "cell_type": "code",
      "source": [
        "sum([sum(abs(x) for x in ms[i]) * sum(abs(x) for x in vs[i]) for i in range(4)])"
      ],
      "metadata": {
        "colab": {
          "base_uri": "https://localhost:8080/"
        },
        "id": "yrb4u5dApC5K",
        "outputId": "61ed86c4-a93c-4683-ab19-c24113666c33"
      },
      "execution_count": null,
      "outputs": [
        {
          "output_type": "execute_result",
          "data": {
            "text/plain": [
              "8538"
            ]
          },
          "metadata": {},
          "execution_count": 61
        }
      ]
    },
    {
      "cell_type": "code",
      "source": [
        "import math\n",
        "\n",
        "def lcm(a, b):\n",
        "    return abs(a*b) // math.gcd(a, b)"
      ],
      "metadata": {
        "id": "hO7t-BgJcruF"
      },
      "execution_count": null,
      "outputs": []
    },
    {
      "cell_type": "code",
      "source": [
        "from tqdm.notebook import tqdm\n",
        "import numpy as np\n",
        "from functools import reduce\n",
        "\n",
        "ms = np.array(parse_coordinates(input))\n",
        "vs = np.array([[0,0,0] for _ in range(4)])\n",
        "seen = [None, None, None]\n",
        "\n",
        "initial_vs_columns = np.copy(vs[:, 0]), np.copy(vs[:, 1]), np.copy(vs[:, 2])\n",
        "initial_ms_columns = np.copy(ms[:, 0]), np.copy(ms[:, 1]), np.copy(ms[:, 2])\n",
        "\n",
        "for step in tqdm(range(10**12)):\n",
        "    for i in range(4):\n",
        "      for j in range(4):\n",
        "        if i == j: continue\n",
        "        for x in range(3):\n",
        "          if ms[i][x] < ms[j][x]: vs[i][x] += 1\n",
        "          if ms[i][x] > ms[j][x]: vs[i][x] -= 1\n",
        "    ms += vs\n",
        "    for axis in range(3):\n",
        "      if seen[axis] == None and np.all(vs[:, axis] == initial_vs_columns[axis]) and np.all(ms[:, axis] == initial_ms_columns[axis]):\n",
        "            seen[axis] = step+1\n",
        "    if all(x is not None for x in seen): break\n",
        "reduce(lcm, seen)"
      ],
      "metadata": {
        "colab": {
          "base_uri": "https://localhost:8080/",
          "height": 67,
          "referenced_widgets": [
            "13fc1633ae3344358e3e8597cf294980",
            "f4c31a4806bb4de49e8b13252c5fb6bd",
            "50ee60239552490aba6ef84202ee1f1b",
            "80082b97f6f94909a6e0fe6bd15df8fd",
            "893854aa683a4c73a1fddf6ea7805de5",
            "27c2cf80bd474ade83e92c27dd44144c",
            "ba3e55f3c6b94377b6283a0f82dde9a9",
            "d5330274f65e4911beb47494758d19c5",
            "624feb729b5742ff9371b9456829b80d",
            "ca9398ed1dd44934ab41e549a233731b",
            "080d65e6ed3c43f181cda236be62dff4"
          ]
        },
        "id": "g_qiIoY1hWny",
        "outputId": "2e94dccf-e2fa-4106-ccb1-89175f5d71d1"
      },
      "execution_count": null,
      "outputs": [
        {
          "output_type": "display_data",
          "data": {
            "text/plain": [
              "  0%|          | 0/1000000000000 [00:00<?, ?it/s]"
            ],
            "application/vnd.jupyter.widget-view+json": {
              "version_major": 2,
              "version_minor": 0,
              "model_id": "13fc1633ae3344358e3e8597cf294980"
            }
          },
          "metadata": {}
        },
        {
          "output_type": "execute_result",
          "data": {
            "text/plain": [
              "506359021038056"
            ]
          },
          "metadata": {},
          "execution_count": 63
        }
      ]
    }
  ]
}