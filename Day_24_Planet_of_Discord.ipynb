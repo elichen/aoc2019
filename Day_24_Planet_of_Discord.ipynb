{
  "nbformat": 4,
  "nbformat_minor": 0,
  "metadata": {
    "colab": {
      "provenance": [],
      "authorship_tag": "ABX9TyNMLoqWoWZf12c0kbcPluAp",
      "include_colab_link": true
    },
    "kernelspec": {
      "name": "python3",
      "display_name": "Python 3"
    },
    "language_info": {
      "name": "python"
    }
  },
  "cells": [
    {
      "cell_type": "markdown",
      "metadata": {
        "id": "view-in-github",
        "colab_type": "text"
      },
      "source": [
        "<a href=\"https://colab.research.google.com/github/elichen/aoc2019/blob/main/Day_24_Planet_of_Discord.ipynb\" target=\"_parent\"><img src=\"https://colab.research.google.com/assets/colab-badge.svg\" alt=\"Open In Colab\"/></a>"
      ]
    },
    {
      "cell_type": "code",
      "execution_count": null,
      "metadata": {
        "id": "aLv9tCcyMF9X"
      },
      "outputs": [],
      "source": [
        "input = \"\"\".#.##\n",
        ".#.#.\n",
        "##.#.\n",
        "####.\n",
        "#.###\"\"\".split('\\n')"
      ]
    },
    {
      "cell_type": "code",
      "source": [
        "def update_map(grid):\n",
        "    # Directions for adjacent cells (up, down, left, right)\n",
        "    directions = [(-1, 0), (1, 0), (0, -1), (0, 1)]\n",
        "\n",
        "    # Function to count adjacent bugs\n",
        "    def count_adjacent_bugs(x, y):\n",
        "        count = 0\n",
        "        for dx, dy in directions:\n",
        "            nx, ny = x + dx, y + dy\n",
        "            if 0 <= nx < len(grid) and 0 <= ny < len(grid[0]) and grid[nx][ny] == '#':\n",
        "                count += 1\n",
        "        return count\n",
        "\n",
        "    # Create a new grid with the same dimensions\n",
        "    new_grid = [['.' for _ in range(len(grid[0]))] for _ in range(len(grid))]\n",
        "\n",
        "    # Update each cell based on the rules\n",
        "    for i in range(len(grid)):\n",
        "        for j in range(len(grid[0])):\n",
        "            adjacent_bugs = count_adjacent_bugs(i, j)\n",
        "            if grid[i][j] == '#' and adjacent_bugs == 1:\n",
        "                new_grid[i][j] = '#'\n",
        "            elif grid[i][j] == '.' and adjacent_bugs in [1, 2]:\n",
        "                new_grid[i][j] = '#'\n",
        "            # Else, leave it as it is ('.' or '#')\n",
        "\n",
        "    # Convert each row of the grid to a string\n",
        "    return [''.join(row) for row in new_grid]"
      ],
      "metadata": {
        "id": "rvqk9a71MLpR"
      },
      "execution_count": null,
      "outputs": []
    },
    {
      "cell_type": "code",
      "source": [
        "def rating(grid):\n",
        "    biodiversity_rating = 0\n",
        "    index = 0\n",
        "\n",
        "    for row in grid:\n",
        "        for cell in row:\n",
        "            if cell == '#':\n",
        "                biodiversity_rating += 2 ** index\n",
        "            index += 1\n",
        "\n",
        "    return biodiversity_rating"
      ],
      "metadata": {
        "id": "S-SDludBOKqg"
      },
      "execution_count": null,
      "outputs": []
    },
    {
      "cell_type": "code",
      "source": [
        "seen = set()\n",
        "m = input.copy()\n",
        "while True:\n",
        "  r = rating(m)\n",
        "  if r in seen:\n",
        "    print(r)\n",
        "    break\n",
        "  seen.add(r)\n",
        "  m = update_map(m)"
      ],
      "metadata": {
        "colab": {
          "base_uri": "https://localhost:8080/"
        },
        "id": "GgswhihvNnTL",
        "outputId": "1fe86128-9f9b-4c47-99a1-15e4f74f366f"
      },
      "execution_count": null,
      "outputs": [
        {
          "output_type": "stream",
          "name": "stdout",
          "text": [
            "18371095\n"
          ]
        }
      ]
    },
    {
      "cell_type": "code",
      "source": [
        "def update_maps(grids):\n",
        "    # Create empty grid template\n",
        "    empty_grid = ['.....' for _ in range(5)]\n",
        "\n",
        "    # Add an empty grid at both ends of the list if necessary\n",
        "    if any(grid[0][2] == '#' or grid[4][2] == '#' or grid[2][0] == '#' or grid[2][4] == '#' for grid in grids):\n",
        "        grids = [empty_grid.copy()] + grids + [empty_grid.copy()]\n",
        "\n",
        "    # Directions for adjacent cells (up, down, left, right)\n",
        "    directions = [(-1, 0), (1, 0), (0, -1), (0, 1)]\n",
        "\n",
        "    # Function to count adjacent bugs for a cell in a specific grid\n",
        "    def count_adjacent_bugs(grid_idx, x, y):\n",
        "        count = 0\n",
        "        for dx, dy in directions:\n",
        "            nx, ny = x + dx, y + dy\n",
        "\n",
        "            # Check for inner cells (center of the grid)\n",
        "            if (x, y) == (2, 2):\n",
        "                continue\n",
        "\n",
        "            # Check for adjacency in the same grid\n",
        "            if 0 <= nx < 5 and 0 <= ny < 5:\n",
        "                if (nx, ny) != (2, 2) and grids[grid_idx][nx][ny] == '#':\n",
        "                    count += 1\n",
        "\n",
        "            # Outer edges - check the previous grid\n",
        "            elif grid_idx > 0:\n",
        "                if nx < 0:  # Top edge\n",
        "                    count += 1 if grids[grid_idx - 1][1][2] == '#' else 0\n",
        "                if nx > 4:  # Bottom edge\n",
        "                    count += 1 if grids[grid_idx - 1][3][2] == '#' else 0\n",
        "                if ny < 0:  # Left edge\n",
        "                    count += 1 if grids[grid_idx - 1][2][1] == '#' else 0\n",
        "                if ny > 4:  # Right edge\n",
        "                    count += 1 if grids[grid_idx - 1][2][3] == '#' else 0\n",
        "\n",
        "            # Inner edges - check the next grid\n",
        "            if grid_idx < len(grids) - 1 and (nx, ny) == (2, 2):\n",
        "                if x == 1:  # Top inner edge\n",
        "                    count += sum(1 for i in range(5) if grids[grid_idx + 1][0][i] == '#')\n",
        "                if x == 3:  # Bottom inner edge\n",
        "                    count += sum(1 for i in range(5) if grids[grid_idx + 1][4][i] == '#')\n",
        "                if y == 1:  # Left inner edge\n",
        "                    count += sum(1 for i in range(5) if grids[grid_idx + 1][i][0] == '#')\n",
        "                if y == 3:  # Right inner edge\n",
        "                    count += sum(1 for i in range(5) if grids[grid_idx + 1][i][4] == '#')\n",
        "\n",
        "        return count\n",
        "\n",
        "    # Create new grids with the same dimensions\n",
        "    new_grids = [[['.' for _ in range(5)] for _ in range(5)] for _ in grids]\n",
        "\n",
        "    # Update each cell in each grid based on the rules\n",
        "    for g in range(len(grids)):\n",
        "        for i in range(5):\n",
        "            for j in range(5):\n",
        "                if (i, j) == (2, 2):  # Skip the center cell\n",
        "                    continue\n",
        "                adjacent_bugs = count_adjacent_bugs(g, i, j)\n",
        "                if grids[g][i][j] == '#' and adjacent_bugs == 1:\n",
        "                    new_grids[g][i][j] = '#'\n",
        "                elif grids[g][i][j] == '.' and adjacent_bugs in [1, 2]:\n",
        "                    new_grids[g][i][j] = '#'\n",
        "\n",
        "    # Convert each row of the grid to a string\n",
        "    return [[''.join(row) for row in grid] for grid in new_grids]"
      ],
      "metadata": {
        "id": "1XZCfXnS84zF"
      },
      "execution_count": null,
      "outputs": []
    },
    {
      "cell_type": "code",
      "source": [
        "grids = [input.copy()]\n",
        "for _ in range(200):\n",
        "  grids = update_maps(grids)\n",
        "len(grids)"
      ],
      "metadata": {
        "colab": {
          "base_uri": "https://localhost:8080/"
        },
        "id": "XquxbIi_9XAK",
        "outputId": "4360116f-9de2-41d7-e12f-d7e6c5867176"
      },
      "execution_count": null,
      "outputs": [
        {
          "output_type": "execute_result",
          "data": {
            "text/plain": [
              "401"
            ]
          },
          "metadata": {},
          "execution_count": 13
        }
      ]
    },
    {
      "cell_type": "code",
      "source": [
        "sum(row.count('#') for grid in grids for row in grid)"
      ],
      "metadata": {
        "colab": {
          "base_uri": "https://localhost:8080/"
        },
        "id": "UKiQHuFQ95VO",
        "outputId": "bcfa54fd-da63-4c72-ae8c-7e0edbdfc745"
      },
      "execution_count": null,
      "outputs": [
        {
          "output_type": "execute_result",
          "data": {
            "text/plain": [
              "2075"
            ]
          },
          "metadata": {},
          "execution_count": 15
        }
      ]
    }
  ]
}